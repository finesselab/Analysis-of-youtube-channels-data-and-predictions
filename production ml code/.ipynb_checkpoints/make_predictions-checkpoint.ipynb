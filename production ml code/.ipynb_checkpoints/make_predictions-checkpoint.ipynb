{
 "cells": [
  {
   "cell_type": "code",
   "execution_count": 1,
   "id": "0e26f428",
   "metadata": {},
   "outputs": [],
   "source": [
    "import pyodbc\n",
    "import pandas as pd\n",
    "import matplotlib.pyplot as plt\n",
    "import seaborn as sns\n",
    "import numpy as np\n",
    "%matplotlib inline\n",
    "import pickle"
   ]
  },
  {
   "cell_type": "code",
   "execution_count": 2,
   "id": "abef5276",
   "metadata": {},
   "outputs": [
    {
     "name": "stdout",
     "output_type": "stream",
     "text": [
      "Connected\n"
     ]
    }
   ],
   "source": [
    "conn2 = pyodbc.connect('Driver={SQL Server};'\n",
    "                                'Server=finesserds.cahwy5tcsaqu.us-east-1.rds.amazonaws.com,1433;'\n",
    "                                'Database=Youtube_data;'\n",
    "                                'uid=admin;pwd=gloryboy')\n",
    "print (\"Connected\")\n",
    "cursor = conn2.cursor()"
   ]
  },
  {
   "cell_type": "code",
   "execution_count": 3,
   "id": "9f89b443",
   "metadata": {},
   "outputs": [],
   "source": [
    "query = '''\n",
    "SELECT *\n",
    "FROM modeling_data3\n",
    "WHERE months_since_upload <= 2\n",
    "'''"
   ]
  },
  {
   "cell_type": "code",
   "execution_count": 4,
   "id": "d7e58327",
   "metadata": {},
   "outputs": [],
   "source": [
    "df = pd.read_sql_query(query, con= conn2)"
   ]
  },
  {
   "cell_type": "code",
   "execution_count": 5,
   "id": "b7a176f4",
   "metadata": {},
   "outputs": [
    {
     "data": {
      "text/html": [
       "<div>\n",
       "<style scoped>\n",
       "    .dataframe tbody tr th:only-of-type {\n",
       "        vertical-align: middle;\n",
       "    }\n",
       "\n",
       "    .dataframe tbody tr th {\n",
       "        vertical-align: top;\n",
       "    }\n",
       "\n",
       "    .dataframe thead th {\n",
       "        text-align: right;\n",
       "    }\n",
       "</style>\n",
       "<table border=\"1\" class=\"dataframe\">\n",
       "  <thead>\n",
       "    <tr style=\"text-align: right;\">\n",
       "      <th></th>\n",
       "      <th>video_id</th>\n",
       "      <th>comedian</th>\n",
       "      <th>year</th>\n",
       "      <th>year_month</th>\n",
       "      <th>months_since_upload</th>\n",
       "      <th>video_duration</th>\n",
       "      <th>view_count</th>\n",
       "      <th>like_count</th>\n",
       "      <th>day_of_week</th>\n",
       "      <th>weekend_weekday</th>\n",
       "      <th>monthly_videos_count</th>\n",
       "    </tr>\n",
       "  </thead>\n",
       "  <tbody>\n",
       "    <tr>\n",
       "      <th>0</th>\n",
       "      <td>--RBGALW1GE</td>\n",
       "      <td>Broda Shaggi</td>\n",
       "      <td>2022</td>\n",
       "      <td>2022-04</td>\n",
       "      <td>0</td>\n",
       "      <td>5</td>\n",
       "      <td>137624</td>\n",
       "      <td>8683</td>\n",
       "      <td>Tuesday</td>\n",
       "      <td>Weekday</td>\n",
       "      <td>2</td>\n",
       "    </tr>\n",
       "    <tr>\n",
       "      <th>1</th>\n",
       "      <td>-b2M37ez-os</td>\n",
       "      <td>Mr macaroni</td>\n",
       "      <td>2022</td>\n",
       "      <td>2022-03</td>\n",
       "      <td>1</td>\n",
       "      <td>5</td>\n",
       "      <td>429162</td>\n",
       "      <td>9828</td>\n",
       "      <td>Tuesday</td>\n",
       "      <td>Weekday</td>\n",
       "      <td>11</td>\n",
       "    </tr>\n",
       "    <tr>\n",
       "      <th>2</th>\n",
       "      <td>-UZ53Xx2O-c</td>\n",
       "      <td>Broda Shaggi</td>\n",
       "      <td>2022</td>\n",
       "      <td>2022-04</td>\n",
       "      <td>0</td>\n",
       "      <td>4</td>\n",
       "      <td>121829</td>\n",
       "      <td>7678</td>\n",
       "      <td>Tuesday</td>\n",
       "      <td>Weekday</td>\n",
       "      <td>2</td>\n",
       "    </tr>\n",
       "  </tbody>\n",
       "</table>\n",
       "</div>"
      ],
      "text/plain": [
       "      video_id      comedian  year year_month  months_since_upload  \\\n",
       "0  --RBGALW1GE  Broda Shaggi  2022    2022-04                    0   \n",
       "1  -b2M37ez-os   Mr macaroni  2022    2022-03                    1   \n",
       "2  -UZ53Xx2O-c  Broda Shaggi  2022    2022-04                    0   \n",
       "\n",
       "   video_duration  view_count  like_count day_of_week weekend_weekday  \\\n",
       "0               5      137624        8683     Tuesday         Weekday   \n",
       "1               5      429162        9828     Tuesday         Weekday   \n",
       "2               4      121829        7678     Tuesday         Weekday   \n",
       "\n",
       "   monthly_videos_count  \n",
       "0                     2  \n",
       "1                    11  \n",
       "2                     2  "
      ]
     },
     "execution_count": 5,
     "metadata": {},
     "output_type": "execute_result"
    }
   ],
   "source": [
    "df.head(3)"
   ]
  },
  {
   "cell_type": "code",
   "execution_count": 6,
   "id": "8b918237",
   "metadata": {},
   "outputs": [],
   "source": [
    "df['year'] = df['year'].astype(str)"
   ]
  },
  {
   "cell_type": "code",
   "execution_count": 7,
   "id": "69be7a5b",
   "metadata": {},
   "outputs": [],
   "source": [
    "comedian = df['comedian'].unique()\n",
    "gender = ['M', 'M', 'F', 'M']\n",
    "df['gender'] = df['comedian'].map(dict(zip(comedian, gender)))"
   ]
  },
  {
   "cell_type": "code",
   "execution_count": 8,
   "id": "a5275545",
   "metadata": {},
   "outputs": [],
   "source": [
    "df1 = df[['comedian', 'gender', 'year', 'months_since_upload', 'video_duration',\n",
    "       'view_count', 'weekend_weekday', 'monthly_videos_count','like_count']]"
   ]
  },
  {
   "cell_type": "code",
   "execution_count": null,
   "id": "d2edcf9f",
   "metadata": {},
   "outputs": [],
   "source": []
  },
  {
   "cell_type": "code",
   "execution_count": null,
   "id": "0e11097b",
   "metadata": {},
   "outputs": [],
   "source": []
  },
  {
   "cell_type": "code",
   "execution_count": 9,
   "id": "0a17cf14",
   "metadata": {},
   "outputs": [],
   "source": [
    "cat_columns = ['comedian', 'gender', 'year','weekend_weekday']"
   ]
  },
  {
   "cell_type": "code",
   "execution_count": 10,
   "id": "63f11ec7",
   "metadata": {},
   "outputs": [],
   "source": [
    "features = df1.columns.drop('like_count')\n",
    "X = df1[list(features)]\n",
    "y = df1['like_count']"
   ]
  },
  {
   "cell_type": "code",
   "execution_count": 11,
   "id": "06570983",
   "metadata": {},
   "outputs": [],
   "source": [
    "from sklearn.metrics import mean_absolute_error as MAE"
   ]
  },
  {
   "cell_type": "code",
   "execution_count": 12,
   "id": "cf3ec0b2",
   "metadata": {},
   "outputs": [],
   "source": [
    "encoder =  pickle.load(open('Fitted_OneHotencoder.pkl', 'rb'))"
   ]
  },
  {
   "cell_type": "code",
   "execution_count": 13,
   "id": "3578d011",
   "metadata": {},
   "outputs": [],
   "source": [
    "def encode_new_data(new_data_df):\n",
    "    cat_ohe_new = encoder.transform(new_data_df[cat_columns])\n",
    "    ohe_new_data_df = pd.DataFrame(cat_ohe_new, columns = encoder.get_feature_names_out(input_features = cat_columns))\n",
    "    \n",
    "    new_data_df.reset_index(inplace= True)\n",
    "    new_data_df.drop('index', axis= 1, inplace= True)\n",
    "    \n",
    "    new_data_df_encoded = pd.concat([new_data_df, ohe_new_data_df], axis=1).drop(columns = cat_columns, axis=1)\n",
    "    return new_data_df_encoded"
   ]
  },
  {
   "cell_type": "code",
   "execution_count": null,
   "id": "a70355c6",
   "metadata": {},
   "outputs": [],
   "source": []
  },
  {
   "cell_type": "code",
   "execution_count": 14,
   "id": "ff309154",
   "metadata": {},
   "outputs": [],
   "source": [
    "loaded_model = pickle.load(open('RF_model.pkl', 'rb'))"
   ]
  },
  {
   "cell_type": "code",
   "execution_count": 15,
   "id": "7598f4bd",
   "metadata": {},
   "outputs": [
    {
     "name": "stderr",
     "output_type": "stream",
     "text": [
      "C:\\Users\\tuneG\\anaconda3\\lib\\site-packages\\pandas\\core\\frame.py:4308: SettingWithCopyWarning: \n",
      "A value is trying to be set on a copy of a slice from a DataFrame\n",
      "\n",
      "See the caveats in the documentation: https://pandas.pydata.org/pandas-docs/stable/user_guide/indexing.html#returning-a-view-versus-a-copy\n",
      "  return super().drop(\n"
     ]
    }
   ],
   "source": [
    "y_pred = loaded_model.predict(encode_new_data(X))\n",
    "y_pred = np.round(y_pred)\n",
    "preds = pd.DataFrame(data=y_pred, columns= ['likes_prediction'])\n",
    "preds['likes_prediction'] = preds['likes_prediction'].apply(lambda x: int(x))\n",
    "#preds.to_csv('predictions.csv', index = False)\n",
    "#print('Prediction completed')"
   ]
  },
  {
   "cell_type": "code",
   "execution_count": 16,
   "id": "8e2397e9",
   "metadata": {},
   "outputs": [
    {
     "name": "stdout",
     "output_type": "stream",
     "text": [
      "1839.75\n"
     ]
    }
   ],
   "source": [
    "mae_test = MAE(y, y_pred)\n",
    "print(mae_test)\n"
   ]
  },
  {
   "cell_type": "code",
   "execution_count": null,
   "id": "bc1ede87",
   "metadata": {},
   "outputs": [],
   "source": []
  },
  {
   "cell_type": "code",
   "execution_count": 17,
   "id": "905f14be",
   "metadata": {},
   "outputs": [],
   "source": [
    "final_df = df[['video_id', 'comedian', 'gender', 'year', 'year_month', 'months_since_upload',\n",
    "       'video_duration', 'view_count', 'day_of_week',\n",
    "       'weekend_weekday', 'monthly_videos_count', 'like_count']]"
   ]
  },
  {
   "cell_type": "code",
   "execution_count": 18,
   "id": "ae365fa1",
   "metadata": {},
   "outputs": [],
   "source": [
    "final_df = pd.concat([final_df, preds], axis = 1)"
   ]
  },
  {
   "cell_type": "code",
   "execution_count": 19,
   "id": "57dfcf03",
   "metadata": {},
   "outputs": [
    {
     "data": {
      "text/html": [
       "<div>\n",
       "<style scoped>\n",
       "    .dataframe tbody tr th:only-of-type {\n",
       "        vertical-align: middle;\n",
       "    }\n",
       "\n",
       "    .dataframe tbody tr th {\n",
       "        vertical-align: top;\n",
       "    }\n",
       "\n",
       "    .dataframe thead th {\n",
       "        text-align: right;\n",
       "    }\n",
       "</style>\n",
       "<table border=\"1\" class=\"dataframe\">\n",
       "  <thead>\n",
       "    <tr style=\"text-align: right;\">\n",
       "      <th></th>\n",
       "      <th>video_id</th>\n",
       "      <th>comedian</th>\n",
       "      <th>gender</th>\n",
       "      <th>year</th>\n",
       "      <th>year_month</th>\n",
       "      <th>months_since_upload</th>\n",
       "      <th>video_duration</th>\n",
       "      <th>view_count</th>\n",
       "      <th>day_of_week</th>\n",
       "      <th>weekend_weekday</th>\n",
       "      <th>monthly_videos_count</th>\n",
       "      <th>like_count</th>\n",
       "      <th>likes_prediction</th>\n",
       "    </tr>\n",
       "  </thead>\n",
       "  <tbody>\n",
       "    <tr>\n",
       "      <th>0</th>\n",
       "      <td>--RBGALW1GE</td>\n",
       "      <td>Broda Shaggi</td>\n",
       "      <td>M</td>\n",
       "      <td>2022</td>\n",
       "      <td>2022-04</td>\n",
       "      <td>0</td>\n",
       "      <td>5</td>\n",
       "      <td>137624</td>\n",
       "      <td>Tuesday</td>\n",
       "      <td>Weekday</td>\n",
       "      <td>2</td>\n",
       "      <td>8683</td>\n",
       "      <td>5996</td>\n",
       "    </tr>\n",
       "    <tr>\n",
       "      <th>1</th>\n",
       "      <td>-b2M37ez-os</td>\n",
       "      <td>Mr macaroni</td>\n",
       "      <td>M</td>\n",
       "      <td>2022</td>\n",
       "      <td>2022-03</td>\n",
       "      <td>1</td>\n",
       "      <td>5</td>\n",
       "      <td>429162</td>\n",
       "      <td>Tuesday</td>\n",
       "      <td>Weekday</td>\n",
       "      <td>11</td>\n",
       "      <td>9828</td>\n",
       "      <td>12759</td>\n",
       "    </tr>\n",
       "    <tr>\n",
       "      <th>2</th>\n",
       "      <td>-UZ53Xx2O-c</td>\n",
       "      <td>Broda Shaggi</td>\n",
       "      <td>M</td>\n",
       "      <td>2022</td>\n",
       "      <td>2022-04</td>\n",
       "      <td>0</td>\n",
       "      <td>4</td>\n",
       "      <td>121829</td>\n",
       "      <td>Tuesday</td>\n",
       "      <td>Weekday</td>\n",
       "      <td>2</td>\n",
       "      <td>7678</td>\n",
       "      <td>5506</td>\n",
       "    </tr>\n",
       "    <tr>\n",
       "      <th>3</th>\n",
       "      <td>_SsQYmttPvY</td>\n",
       "      <td>Broda Shaggi</td>\n",
       "      <td>M</td>\n",
       "      <td>2022</td>\n",
       "      <td>2022-02</td>\n",
       "      <td>2</td>\n",
       "      <td>1</td>\n",
       "      <td>258522</td>\n",
       "      <td>Friday</td>\n",
       "      <td>Weekday</td>\n",
       "      <td>7</td>\n",
       "      <td>11713</td>\n",
       "      <td>9442</td>\n",
       "    </tr>\n",
       "    <tr>\n",
       "      <th>4</th>\n",
       "      <td>_u_nE2mBGFc</td>\n",
       "      <td>Mr macaroni</td>\n",
       "      <td>M</td>\n",
       "      <td>2022</td>\n",
       "      <td>2022-02</td>\n",
       "      <td>2</td>\n",
       "      <td>10</td>\n",
       "      <td>542127</td>\n",
       "      <td>Saturday</td>\n",
       "      <td>Weekend</td>\n",
       "      <td>12</td>\n",
       "      <td>16819</td>\n",
       "      <td>13491</td>\n",
       "    </tr>\n",
       "    <tr>\n",
       "      <th>...</th>\n",
       "      <td>...</td>\n",
       "      <td>...</td>\n",
       "      <td>...</td>\n",
       "      <td>...</td>\n",
       "      <td>...</td>\n",
       "      <td>...</td>\n",
       "      <td>...</td>\n",
       "      <td>...</td>\n",
       "      <td>...</td>\n",
       "      <td>...</td>\n",
       "      <td>...</td>\n",
       "      <td>...</td>\n",
       "      <td>...</td>\n",
       "    </tr>\n",
       "    <tr>\n",
       "      <th>87</th>\n",
       "      <td>xW5LtpmzmY0</td>\n",
       "      <td>Mc_lively</td>\n",
       "      <td>M</td>\n",
       "      <td>2022</td>\n",
       "      <td>2022-02</td>\n",
       "      <td>2</td>\n",
       "      <td>6</td>\n",
       "      <td>90494</td>\n",
       "      <td>Thursday</td>\n",
       "      <td>Weekday</td>\n",
       "      <td>8</td>\n",
       "      <td>4065</td>\n",
       "      <td>4547</td>\n",
       "    </tr>\n",
       "    <tr>\n",
       "      <th>88</th>\n",
       "      <td>yeG10iI3YuQ</td>\n",
       "      <td>Taaooma</td>\n",
       "      <td>F</td>\n",
       "      <td>2022</td>\n",
       "      <td>2022-02</td>\n",
       "      <td>2</td>\n",
       "      <td>1</td>\n",
       "      <td>90937</td>\n",
       "      <td>Saturday</td>\n",
       "      <td>Weekend</td>\n",
       "      <td>12</td>\n",
       "      <td>3752</td>\n",
       "      <td>5660</td>\n",
       "    </tr>\n",
       "    <tr>\n",
       "      <th>89</th>\n",
       "      <td>yNPP07Cidro</td>\n",
       "      <td>Mr macaroni</td>\n",
       "      <td>M</td>\n",
       "      <td>2022</td>\n",
       "      <td>2022-03</td>\n",
       "      <td>1</td>\n",
       "      <td>5</td>\n",
       "      <td>418634</td>\n",
       "      <td>Sunday</td>\n",
       "      <td>Weekend</td>\n",
       "      <td>11</td>\n",
       "      <td>13092</td>\n",
       "      <td>12502</td>\n",
       "    </tr>\n",
       "    <tr>\n",
       "      <th>90</th>\n",
       "      <td>Z9GLv2ZMAKs</td>\n",
       "      <td>Mc_lively</td>\n",
       "      <td>M</td>\n",
       "      <td>2022</td>\n",
       "      <td>2022-03</td>\n",
       "      <td>1</td>\n",
       "      <td>4</td>\n",
       "      <td>76909</td>\n",
       "      <td>Thursday</td>\n",
       "      <td>Weekday</td>\n",
       "      <td>8</td>\n",
       "      <td>2897</td>\n",
       "      <td>3961</td>\n",
       "    </tr>\n",
       "    <tr>\n",
       "      <th>91</th>\n",
       "      <td>ZTNqV-uj5w8</td>\n",
       "      <td>Taaooma</td>\n",
       "      <td>F</td>\n",
       "      <td>2022</td>\n",
       "      <td>2022-03</td>\n",
       "      <td>1</td>\n",
       "      <td>1</td>\n",
       "      <td>189436</td>\n",
       "      <td>Tuesday</td>\n",
       "      <td>Weekday</td>\n",
       "      <td>14</td>\n",
       "      <td>8544</td>\n",
       "      <td>10396</td>\n",
       "    </tr>\n",
       "  </tbody>\n",
       "</table>\n",
       "<p>92 rows × 13 columns</p>\n",
       "</div>"
      ],
      "text/plain": [
       "       video_id      comedian gender  year year_month  months_since_upload  \\\n",
       "0   --RBGALW1GE  Broda Shaggi      M  2022    2022-04                    0   \n",
       "1   -b2M37ez-os   Mr macaroni      M  2022    2022-03                    1   \n",
       "2   -UZ53Xx2O-c  Broda Shaggi      M  2022    2022-04                    0   \n",
       "3   _SsQYmttPvY  Broda Shaggi      M  2022    2022-02                    2   \n",
       "4   _u_nE2mBGFc   Mr macaroni      M  2022    2022-02                    2   \n",
       "..          ...           ...    ...   ...        ...                  ...   \n",
       "87  xW5LtpmzmY0     Mc_lively      M  2022    2022-02                    2   \n",
       "88  yeG10iI3YuQ       Taaooma      F  2022    2022-02                    2   \n",
       "89  yNPP07Cidro   Mr macaroni      M  2022    2022-03                    1   \n",
       "90  Z9GLv2ZMAKs     Mc_lively      M  2022    2022-03                    1   \n",
       "91  ZTNqV-uj5w8       Taaooma      F  2022    2022-03                    1   \n",
       "\n",
       "    video_duration  view_count day_of_week weekend_weekday  \\\n",
       "0                5      137624     Tuesday         Weekday   \n",
       "1                5      429162     Tuesday         Weekday   \n",
       "2                4      121829     Tuesday         Weekday   \n",
       "3                1      258522      Friday         Weekday   \n",
       "4               10      542127    Saturday         Weekend   \n",
       "..             ...         ...         ...             ...   \n",
       "87               6       90494    Thursday         Weekday   \n",
       "88               1       90937    Saturday         Weekend   \n",
       "89               5      418634      Sunday         Weekend   \n",
       "90               4       76909    Thursday         Weekday   \n",
       "91               1      189436     Tuesday         Weekday   \n",
       "\n",
       "    monthly_videos_count  like_count  likes_prediction  \n",
       "0                      2        8683              5996  \n",
       "1                     11        9828             12759  \n",
       "2                      2        7678              5506  \n",
       "3                      7       11713              9442  \n",
       "4                     12       16819             13491  \n",
       "..                   ...         ...               ...  \n",
       "87                     8        4065              4547  \n",
       "88                    12        3752              5660  \n",
       "89                    11       13092             12502  \n",
       "90                     8        2897              3961  \n",
       "91                    14        8544             10396  \n",
       "\n",
       "[92 rows x 13 columns]"
      ]
     },
     "execution_count": 19,
     "metadata": {},
     "output_type": "execute_result"
    }
   ],
   "source": [
    "final_df"
   ]
  },
  {
   "cell_type": "code",
   "execution_count": null,
   "id": "5f250bec",
   "metadata": {},
   "outputs": [],
   "source": []
  },
  {
   "cell_type": "code",
   "execution_count": 20,
   "id": "142f9f52",
   "metadata": {},
   "outputs": [
    {
     "data": {
      "image/png": "[encoded data removed]",
      "text/plain": [
       "<Figure size 432x288 with 1 Axes>"
      ]
     },
     "metadata": {
      "needs_background": "light"
     },
     "output_type": "display_data"
    }
   ],
   "source": [
    "sns.scatterplot(data = final_df, x = 'like_count', y = 'likes_prediction')\n",
    "plt.xlabel('Original (like_count)')\n",
    "plt.ylabel('Prediction (like_count)')\n",
    "plt.title('Original like_count VS Predictions')\n",
    "plt.show()"
   ]
  },
  {
   "cell_type": "code",
   "execution_count": 21,
   "id": "17f5ec15",
   "metadata": {},
   "outputs": [
    {
     "data": {
      "text/plain": [
       "Index(['video_id', 'comedian', 'gender', 'year', 'year_month',\n",
       "       'months_since_upload', 'video_duration', 'view_count', 'day_of_week',\n",
       "       'weekend_weekday', 'monthly_videos_count', 'like_count',\n",
       "       'likes_prediction'],\n",
       "      dtype='object')"
      ]
     },
     "execution_count": 21,
     "metadata": {},
     "output_type": "execute_result"
    }
   ],
   "source": [
    "final_df.columns"
   ]
  },
  {
   "cell_type": "code",
   "execution_count": 22,
   "id": "d77857bb",
   "metadata": {},
   "outputs": [],
   "source": [
    "# query = '''\n",
    "#     CREATE TABLE predictions (\n",
    "#         video_id varchar(max) NULL,\n",
    "#         comedian varchar(max) NULL,\n",
    "#         gender varchar(3) NULL,\n",
    "#         year varchar(max) NULL,\n",
    "#         year_month varchar(max) NULL,\n",
    "#         months_since_upload int NULL,\n",
    "#         video_duration int NULL,\n",
    "#         view_count int NULL,\n",
    "#         day_of_week varchar(max) NULL,\n",
    "#         weekend_weekday varchar(max) NULL, \n",
    "#         monthly_videos_count int NULL, \n",
    "#         like_count int NULL,\n",
    "#         likes_prediction int NULL)\n",
    "#     '''"
   ]
  },
  {
   "cell_type": "code",
   "execution_count": 23,
   "id": "f37011cd",
   "metadata": {},
   "outputs": [],
   "source": [
    "# cursor.execute(query)\n",
    "# conn2.commit()"
   ]
  },
  {
   "cell_type": "code",
   "execution_count": 24,
   "id": "74ca5d89",
   "metadata": {},
   "outputs": [],
   "source": [
    "# def insert_new_data_to_table(video_id, comedian, gender, year, year_month, months_since_upload,\n",
    "#                              video_duration, view_count, day_of_week, weekend_weekday, monthly_videos_count,\n",
    "#                              like_count, likes_prediction):\n",
    "#     query = '''\n",
    "#             INSERT INTO predictions (video_id, comedian, gender, year, year_month, months_since_upload,\n",
    "#                              video_duration, view_count, day_of_week, weekend_weekday, monthly_videos_count,\n",
    "#                              like_count, likes_prediction) \n",
    "#             VALUES(?,?,?,?,?,?,?,?,?,?,?,?,?)\n",
    "#     '''\n",
    "#     row_values_to_insert = (video_id, comedian, gender, year, year_month, months_since_upload,\n",
    "#                              video_duration, view_count, day_of_week, weekend_weekday, monthly_videos_count,\n",
    "#                              like_count, likes_prediction)\n",
    "    \n",
    "#     cursor.execute(query, row_values_to_insert)"
   ]
  },
  {
   "cell_type": "code",
   "execution_count": 25,
   "id": "489c0a65",
   "metadata": {},
   "outputs": [],
   "source": [
    "# for idx, row in final_df.iterrows():\n",
    "#     insert_new_data_to_table(row['video_id'], row['comedian'], row['gender'], row['year'], row['year_month'],\n",
    "#                        row['months_since_upload'], row['video_duration'], row['view_count'], row['day_of_week'],\n",
    "#                        row['weekend_weekday'], row['monthly_videos_count'], row['like_count'], row['likes_prediction'])"
   ]
  },
  {
   "cell_type": "code",
   "execution_count": 26,
   "id": "a9db7570",
   "metadata": {},
   "outputs": [],
   "source": [
    "#conn2.commit()"
   ]
  },
  {
   "cell_type": "code",
   "execution_count": 27,
   "id": "761d888e",
   "metadata": {},
   "outputs": [],
   "source": [
    "def check_if_video_exists(video_id):\n",
    "    query = '''\n",
    "       SELECT *\n",
    "       FROM predictions\n",
    "       WHERE video_id = ?\n",
    "    '''\n",
    "    row = cursor.execute(query, (video_id,))\n",
    "    if row:\n",
    "        return row.fetchone()\n",
    "    else:\n",
    "        return None"
   ]
  },
  {
   "cell_type": "code",
   "execution_count": 28,
   "id": "6584f530",
   "metadata": {},
   "outputs": [],
   "source": [
    "def update_row(view_count, like_count, likes_prediction, video_id):\n",
    "    query = '''\n",
    "            UPDATE predictions\n",
    "            SET \n",
    "                view_count = ?,\n",
    "                like_count = ?,\n",
    "                likes_prediction = ?\n",
    "            WHERE video_id = ?\n",
    "    '''\n",
    "    vars_to_update = (view_count, like_count, likes_prediction, video_id)\n",
    "    cursor.execute(query, vars_to_update)"
   ]
  },
  {
   "cell_type": "code",
   "execution_count": null,
   "id": "5268bda0",
   "metadata": {},
   "outputs": [],
   "source": []
  },
  {
   "cell_type": "code",
   "execution_count": 29,
   "id": "2641b986",
   "metadata": {},
   "outputs": [],
   "source": [
    "def update_db(df):\n",
    "    temp_df = pd.DataFrame(columns = ['video_id', 'comedian', 'gender', 'year', 'year_month', 'months_since_upload',\n",
    "                    'video_duration', 'view_count', 'day_of_week', 'weekend_weekday', 'monthly_videos_count', 'like_count',\n",
    "                    'likes_prediction'])\n",
    "    for i, row in df.iterrows():\n",
    "        if check_if_video_exists(row['video_id']):\n",
    "            update_row(row['view_count'], row['like_count'], row['likes_prediction'], row['video_id'])\n",
    "        else:\n",
    "            temp_df = temp_df.append(row)\n",
    "            \n",
    "    return temp_df\n"
   ]
  },
  {
   "cell_type": "code",
   "execution_count": 30,
   "id": "1137f4d3",
   "metadata": {},
   "outputs": [
    {
     "name": "stdout",
     "output_type": "stream",
     "text": [
      "Updated existing videos\n"
     ]
    }
   ],
   "source": [
    "new_data_dff = update_db(final_df)\n",
    "print('Updated existing videos')"
   ]
  },
  {
   "cell_type": "code",
   "execution_count": 31,
   "id": "9740ebad",
   "metadata": {},
   "outputs": [
    {
     "name": "stdout",
     "output_type": "stream",
     "text": [
      "No new data to add\n"
     ]
    }
   ],
   "source": [
    "if new_data_dff.empty:\n",
    "    print('No new data to add')\n",
    "    \n",
    "else:\n",
    "    for idx, row in new_data_dff.iterrows():\n",
    "        insert_new_data_to_table(row['video_id'], row['comedian'], row['gender'], row['year'], row['year_month'],\n",
    "                           row['months_since_upload'], row['video_duration'], row['view_count'], row['day_of_week'],\n",
    "                           row['weekend_weekday'], row['monthly_videos_count'], row['like_count'], row['likes_prediction'])\n",
    "    print('Added new data')"
   ]
  },
  {
   "cell_type": "code",
   "execution_count": 32,
   "id": "1927464e",
   "metadata": {},
   "outputs": [],
   "source": [
    "conn2.commit()"
   ]
  },
  {
   "cell_type": "code",
   "execution_count": null,
   "id": "5f0f56dc",
   "metadata": {},
   "outputs": [],
   "source": []
  },
  {
   "cell_type": "code",
   "execution_count": null,
   "id": "e05e52ee",
   "metadata": {},
   "outputs": [],
   "source": []
  },
  {
   "cell_type": "code",
   "execution_count": null,
   "id": "8127acd7",
   "metadata": {},
   "outputs": [],
   "source": []
  }
 ],
 "metadata": {
  "kernelspec": {
   "display_name": "Python 3",
   "language": "python",
   "name": "python3"
  },
  "language_info": {
   "codemirror_mode": {
    "name": "ipython",
    "version": 3
   },
   "file_extension": ".py",
   "mimetype": "text/x-python",
   "name": "python",
   "nbconvert_exporter": "python",
   "pygments_lexer": "ipython3",
   "version": "3.8.8"
  }
 },
 "nbformat": 4,
 "nbformat_minor": 5
}
