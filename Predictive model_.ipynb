{
 "cells": [
  {
   "cell_type": "code",
   "execution_count": 1,
   "id": "ac6c2857",
   "metadata": {},
   "outputs": [],
   "source": [
    "import pyodbc\n",
    "import pandas as pd\n",
    "import seaborn as sns\n",
    "import matplotlib.pyplot as plt\n",
    "import numpy as np\n",
    "%matplotlib inline"
   ]
  },
  {
   "cell_type": "code",
   "execution_count": null,
   "id": "1923de48",
   "metadata": {},
   "outputs": [],
   "source": []
  },
  {
   "cell_type": "code",
   "execution_count": 2,
   "id": "abef5276",
   "metadata": {},
   "outputs": [],
   "source": [
    "conn2 = pyodbc.connect('DRIVER={SQL Server};'\n",
    "                                'Server=finesxxx.xxxx.xxxxxxx.amazonaws.com,xxxx;'\n",
    "                                'Database=xxxxxxxx;'\n",
    "                                'uid=xxxxx;pwd=xxxxxx;'\n",
    "                                'TrustServerCertificate=yes;')\n",
    "print (\"Connected\")\n",
    "cursor = conn2.cursor()"
   ]
  },
  {
   "cell_type": "code",
   "execution_count": 3,
   "id": "9f89b443",
   "metadata": {},
   "outputs": [],
   "source": [
    "# query = '''\n",
    "# SELECT *\n",
    "# FROM modeling_data3\n",
    "# '''\n",
    "\n",
    "#modeling_data2"
   ]
  },
  {
   "cell_type": "code",
   "execution_count": 4,
   "id": "d7e58327",
   "metadata": {},
   "outputs": [],
   "source": [
    "# df = pd.read_sql_query(query, con= conn2)"
   ]
  },
  {
   "cell_type": "markdown",
   "id": "87229cdd",
   "metadata": {},
   "source": [
    "#### save data to csv file and read"
   ]
  },
  {
   "cell_type": "code",
   "execution_count": 5,
   "id": "e8ad9b2b",
   "metadata": {},
   "outputs": [],
   "source": [
    "#df.to_csv('new modeling data.csv', index  =False)"
   ]
  },
  {
   "cell_type": "code",
   "execution_count": 6,
   "id": "d2de6093",
   "metadata": {},
   "outputs": [],
   "source": [
    "df = pd.read_csv('new modeling data.csv')"
   ]
  },
  {
   "cell_type": "code",
   "execution_count": 7,
   "id": "b67d9020",
   "metadata": {},
   "outputs": [
    {
     "data": {
      "text/plain": [
       "(1604, 12)"
      ]
     },
     "execution_count": 7,
     "metadata": {},
     "output_type": "execute_result"
    }
   ],
   "source": [
    "df.shape"
   ]
  },
  {
   "cell_type": "code",
   "execution_count": null,
   "id": "dcd8b0be",
   "metadata": {},
   "outputs": [],
   "source": []
  },
  {
   "cell_type": "code",
   "execution_count": 8,
   "id": "dd99408a",
   "metadata": {},
   "outputs": [
    {
     "data": {
      "text/html": [
       "<div>\n",
       "<style scoped>\n",
       "    .dataframe tbody tr th:only-of-type {\n",
       "        vertical-align: middle;\n",
       "    }\n",
       "\n",
       "    .dataframe tbody tr th {\n",
       "        vertical-align: top;\n",
       "    }\n",
       "\n",
       "    .dataframe thead th {\n",
       "        text-align: right;\n",
       "    }\n",
       "</style>\n",
       "<table border=\"1\" class=\"dataframe\">\n",
       "  <thead>\n",
       "    <tr style=\"text-align: right;\">\n",
       "      <th></th>\n",
       "      <th>video_id</th>\n",
       "      <th>comedian</th>\n",
       "      <th>year</th>\n",
       "      <th>year_month</th>\n",
       "      <th>months_since_upload</th>\n",
       "      <th>video_duration</th>\n",
       "      <th>view_count</th>\n",
       "      <th>like_count</th>\n",
       "      <th>day_of_week</th>\n",
       "      <th>weekend_weekday</th>\n",
       "      <th>monthly_videos_count</th>\n",
       "      <th>gender</th>\n",
       "    </tr>\n",
       "  </thead>\n",
       "  <tbody>\n",
       "    <tr>\n",
       "      <th>0</th>\n",
       "      <td>-_lBNFG22e8</td>\n",
       "      <td>Broda Shaggi</td>\n",
       "      <td>2021</td>\n",
       "      <td>2021-01</td>\n",
       "      <td>15</td>\n",
       "      <td>5</td>\n",
       "      <td>607779</td>\n",
       "      <td>15480</td>\n",
       "      <td>Monday</td>\n",
       "      <td>Weekday</td>\n",
       "      <td>6</td>\n",
       "      <td>M</td>\n",
       "    </tr>\n",
       "    <tr>\n",
       "      <th>1</th>\n",
       "      <td>-25l5LMLddY</td>\n",
       "      <td>Broda Shaggi</td>\n",
       "      <td>2018</td>\n",
       "      <td>2018-05</td>\n",
       "      <td>47</td>\n",
       "      <td>1</td>\n",
       "      <td>278594</td>\n",
       "      <td>3574</td>\n",
       "      <td>Saturday</td>\n",
       "      <td>Weekend</td>\n",
       "      <td>17</td>\n",
       "      <td>M</td>\n",
       "    </tr>\n",
       "    <tr>\n",
       "      <th>2</th>\n",
       "      <td>-4RSFPC-fJo</td>\n",
       "      <td>Broda Shaggi</td>\n",
       "      <td>2018</td>\n",
       "      <td>2018-05</td>\n",
       "      <td>47</td>\n",
       "      <td>1</td>\n",
       "      <td>84598</td>\n",
       "      <td>1163</td>\n",
       "      <td>Thursday</td>\n",
       "      <td>Weekday</td>\n",
       "      <td>17</td>\n",
       "      <td>M</td>\n",
       "    </tr>\n",
       "  </tbody>\n",
       "</table>\n",
       "</div>"
      ],
      "text/plain": [
       "      video_id      comedian  year year_month  months_since_upload  \\\n",
       "0  -_lBNFG22e8  Broda Shaggi  2021    2021-01                   15   \n",
       "1  -25l5LMLddY  Broda Shaggi  2018    2018-05                   47   \n",
       "2  -4RSFPC-fJo  Broda Shaggi  2018    2018-05                   47   \n",
       "\n",
       "   video_duration  view_count  like_count day_of_week weekend_weekday  \\\n",
       "0               5      607779       15480      Monday         Weekday   \n",
       "1               1      278594        3574    Saturday         Weekend   \n",
       "2               1       84598        1163    Thursday         Weekday   \n",
       "\n",
       "   monthly_videos_count gender  \n",
       "0                     6      M  \n",
       "1                    17      M  \n",
       "2                    17      M  "
      ]
     },
     "execution_count": 8,
     "metadata": {},
     "output_type": "execute_result"
    }
   ],
   "source": [
    "df.head(3)"
   ]
  },
  {
   "cell_type": "code",
   "execution_count": 9,
   "id": "50a9e4dc",
   "metadata": {},
   "outputs": [],
   "source": [
    "df['year'] = df['year'].astype(str)"
   ]
  },
  {
   "cell_type": "code",
   "execution_count": null,
   "id": "3e5f6146",
   "metadata": {},
   "outputs": [],
   "source": []
  },
  {
   "cell_type": "markdown",
   "id": "db6ff2d8",
   "metadata": {},
   "source": [
    "## RELATIONSHIP BETWEEN VIEWS and LIKES FOR VIDEOS POSTED OVER 5 MONTHS AGO"
   ]
  },
  {
   "cell_type": "code",
   "execution_count": 10,
   "id": "b8cb4a88",
   "metadata": {},
   "outputs": [],
   "source": [
    "df1 = df[df['months_since_upload'] > 5]"
   ]
  },
  {
   "cell_type": "markdown",
   "id": "a033b5e4",
   "metadata": {},
   "source": [
    "#### Features correlation"
   ]
  },
  {
   "cell_type": "code",
   "execution_count": 11,
   "id": "b2937352",
   "metadata": {},
   "outputs": [
    {
     "data": {
      "text/plain": [
       "<AxesSubplot:>"
      ]
     },
     "execution_count": 11,
     "metadata": {},
     "output_type": "execute_result"
    },
    {
     "data": {
      "image/png": "[encoded data removed]",
      "text/plain": [
       "<Figure size 432x288 with 2 Axes>"
      ]
     },
     "metadata": {
      "needs_background": "light"
     },
     "output_type": "display_data"
    }
   ],
   "source": [
    "sns.heatmap(df1.corr(), annot = True, cmap = 'coolwarm')"
   ]
  },
  {
   "cell_type": "code",
   "execution_count": null,
   "id": "6e8581c4",
   "metadata": {},
   "outputs": [],
   "source": []
  },
  {
   "cell_type": "code",
   "execution_count": 12,
   "id": "3318c755",
   "metadata": {},
   "outputs": [
    {
     "data": {
      "text/plain": [
       "<seaborn.axisgrid.FacetGrid at 0x201edda4d00>"
      ]
     },
     "execution_count": 12,
     "metadata": {},
     "output_type": "execute_result"
    },
    {
     "data": {
      "image/png": "[encoded data removed]",
      "text/plain": [
       "<Figure size 462.75x360 with 1 Axes>"
      ]
     },
     "metadata": {
      "needs_background": "light"
     },
     "output_type": "display_data"
    }
   ],
   "source": [
    "sns.lmplot(data = df1, x = 'view_count', y = 'like_count', hue = 'comedian', ci = None)"
   ]
  },
  {
   "cell_type": "code",
   "execution_count": null,
   "id": "90b65edd",
   "metadata": {},
   "outputs": [],
   "source": []
  },
  {
   "cell_type": "markdown",
   "id": "09848895",
   "metadata": {},
   "source": [
    "### Regression model of Likes and Views"
   ]
  },
  {
   "cell_type": "code",
   "execution_count": 13,
   "id": "f3709997",
   "metadata": {},
   "outputs": [],
   "source": [
    "from statsmodels.formula.api import ols"
   ]
  },
  {
   "cell_type": "code",
   "execution_count": 14,
   "id": "b4d5fa0a",
   "metadata": {},
   "outputs": [],
   "source": [
    "mdl_likes_vs_views = ols('like_count ~ comedian:view_count +\\\n",
    "                         year:view_count + 0', data = df1).fit()"
   ]
  },
  {
   "cell_type": "code",
   "execution_count": null,
   "id": "fb31f6d1",
   "metadata": {},
   "outputs": [],
   "source": []
  },
  {
   "cell_type": "markdown",
   "id": "064c72c0",
   "metadata": {},
   "source": [
    "#### Ten Videos with the most influence on regression model"
   ]
  },
  {
   "cell_type": "code",
   "execution_count": 15,
   "id": "d61351f2",
   "metadata": {},
   "outputs": [],
   "source": [
    "df2 = df.copy()"
   ]
  },
  {
   "cell_type": "code",
   "execution_count": 16,
   "id": "aa42c3c6",
   "metadata": {},
   "outputs": [
    {
     "data": {
      "text/html": [
       "<div>\n",
       "<style scoped>\n",
       "    .dataframe tbody tr th:only-of-type {\n",
       "        vertical-align: middle;\n",
       "    }\n",
       "\n",
       "    .dataframe tbody tr th {\n",
       "        vertical-align: top;\n",
       "    }\n",
       "\n",
       "    .dataframe thead th {\n",
       "        text-align: right;\n",
       "    }\n",
       "</style>\n",
       "<table border=\"1\" class=\"dataframe\">\n",
       "  <thead>\n",
       "    <tr style=\"text-align: right;\">\n",
       "      <th></th>\n",
       "      <th>video_id</th>\n",
       "      <th>comedian</th>\n",
       "      <th>year</th>\n",
       "      <th>year_month</th>\n",
       "      <th>months_since_upload</th>\n",
       "      <th>video_duration</th>\n",
       "      <th>view_count</th>\n",
       "      <th>like_count</th>\n",
       "      <th>day_of_week</th>\n",
       "      <th>weekend_weekday</th>\n",
       "      <th>monthly_videos_count</th>\n",
       "      <th>gender</th>\n",
       "      <th>leverage</th>\n",
       "      <th>cooks_dist</th>\n",
       "    </tr>\n",
       "  </thead>\n",
       "  <tbody>\n",
       "    <tr>\n",
       "      <th>611</th>\n",
       "      <td>Fu5IMZeGwJM</td>\n",
       "      <td>Broda Shaggi</td>\n",
       "      <td>2020</td>\n",
       "      <td>2020-07</td>\n",
       "      <td>21</td>\n",
       "      <td>2</td>\n",
       "      <td>4429850</td>\n",
       "      <td>17907</td>\n",
       "      <td>Tuesday</td>\n",
       "      <td>Weekday</td>\n",
       "      <td>10</td>\n",
       "      <td>M</td>\n",
       "      <td>0.143768</td>\n",
       "      <td>3.495256</td>\n",
       "    </tr>\n",
       "    <tr>\n",
       "      <th>1280</th>\n",
       "      <td>tc8flAoNwy8</td>\n",
       "      <td>Mr macaroni</td>\n",
       "      <td>2020</td>\n",
       "      <td>2020-02</td>\n",
       "      <td>26</td>\n",
       "      <td>2</td>\n",
       "      <td>4871728</td>\n",
       "      <td>28300</td>\n",
       "      <td>Saturday</td>\n",
       "      <td>Weekend</td>\n",
       "      <td>11</td>\n",
       "      <td>M</td>\n",
       "      <td>0.250993</td>\n",
       "      <td>3.081020</td>\n",
       "    </tr>\n",
       "    <tr>\n",
       "      <th>1129</th>\n",
       "      <td>qF_EEMt1I_g</td>\n",
       "      <td>Broda Shaggi</td>\n",
       "      <td>2020</td>\n",
       "      <td>2020-06</td>\n",
       "      <td>22</td>\n",
       "      <td>14</td>\n",
       "      <td>3685250</td>\n",
       "      <td>71996</td>\n",
       "      <td>Sunday</td>\n",
       "      <td>Weekend</td>\n",
       "      <td>10</td>\n",
       "      <td>M</td>\n",
       "      <td>0.099499</td>\n",
       "      <td>0.406470</td>\n",
       "    </tr>\n",
       "    <tr>\n",
       "      <th>308</th>\n",
       "      <td>aEm7Q0TVXYk</td>\n",
       "      <td>Taaooma</td>\n",
       "      <td>2020</td>\n",
       "      <td>2020-12</td>\n",
       "      <td>16</td>\n",
       "      <td>19</td>\n",
       "      <td>2089544</td>\n",
       "      <td>28876</td>\n",
       "      <td>Monday</td>\n",
       "      <td>Weekday</td>\n",
       "      <td>13</td>\n",
       "      <td>F</td>\n",
       "      <td>0.073761</td>\n",
       "      <td>0.359736</td>\n",
       "    </tr>\n",
       "    <tr>\n",
       "      <th>1076</th>\n",
       "      <td>p2w4sijMjdw</td>\n",
       "      <td>Broda Shaggi</td>\n",
       "      <td>2021</td>\n",
       "      <td>2021-02</td>\n",
       "      <td>14</td>\n",
       "      <td>31</td>\n",
       "      <td>2056523</td>\n",
       "      <td>25008</td>\n",
       "      <td>Monday</td>\n",
       "      <td>Weekday</td>\n",
       "      <td>8</td>\n",
       "      <td>M</td>\n",
       "      <td>0.044925</td>\n",
       "      <td>0.174893</td>\n",
       "    </tr>\n",
       "    <tr>\n",
       "      <th>325</th>\n",
       "      <td>aNvZZAKZtK4</td>\n",
       "      <td>Mc_lively</td>\n",
       "      <td>2018</td>\n",
       "      <td>2018-12</td>\n",
       "      <td>40</td>\n",
       "      <td>1</td>\n",
       "      <td>771594</td>\n",
       "      <td>7306</td>\n",
       "      <td>Saturday</td>\n",
       "      <td>Weekend</td>\n",
       "      <td>13</td>\n",
       "      <td>M</td>\n",
       "      <td>0.134871</td>\n",
       "      <td>0.149513</td>\n",
       "    </tr>\n",
       "    <tr>\n",
       "      <th>985</th>\n",
       "      <td>NdeHE1nQBf8</td>\n",
       "      <td>Mr macaroni</td>\n",
       "      <td>2021</td>\n",
       "      <td>2021-01</td>\n",
       "      <td>15</td>\n",
       "      <td>57</td>\n",
       "      <td>1568727</td>\n",
       "      <td>11783</td>\n",
       "      <td>Friday</td>\n",
       "      <td>Weekday</td>\n",
       "      <td>13</td>\n",
       "      <td>M</td>\n",
       "      <td>0.032686</td>\n",
       "      <td>0.104223</td>\n",
       "    </tr>\n",
       "    <tr>\n",
       "      <th>1335</th>\n",
       "      <td>uk-kETgWTI8</td>\n",
       "      <td>Mc_lively</td>\n",
       "      <td>2021</td>\n",
       "      <td>2021-09</td>\n",
       "      <td>7</td>\n",
       "      <td>6</td>\n",
       "      <td>738336</td>\n",
       "      <td>14176</td>\n",
       "      <td>Monday</td>\n",
       "      <td>Weekday</td>\n",
       "      <td>10</td>\n",
       "      <td>M</td>\n",
       "      <td>0.073919</td>\n",
       "      <td>0.097032</td>\n",
       "    </tr>\n",
       "    <tr>\n",
       "      <th>268</th>\n",
       "      <td>8wBBo4jaW70</td>\n",
       "      <td>Taaooma</td>\n",
       "      <td>2020</td>\n",
       "      <td>2020-10</td>\n",
       "      <td>18</td>\n",
       "      <td>15</td>\n",
       "      <td>1143639</td>\n",
       "      <td>48889</td>\n",
       "      <td>Friday</td>\n",
       "      <td>Weekday</td>\n",
       "      <td>8</td>\n",
       "      <td>F</td>\n",
       "      <td>0.022095</td>\n",
       "      <td>0.089679</td>\n",
       "    </tr>\n",
       "    <tr>\n",
       "      <th>673</th>\n",
       "      <td>H4IeC_8TbFY</td>\n",
       "      <td>Broda Shaggi</td>\n",
       "      <td>2020</td>\n",
       "      <td>2020-09</td>\n",
       "      <td>19</td>\n",
       "      <td>1</td>\n",
       "      <td>2705540</td>\n",
       "      <td>25578</td>\n",
       "      <td>Tuesday</td>\n",
       "      <td>Weekday</td>\n",
       "      <td>9</td>\n",
       "      <td>M</td>\n",
       "      <td>0.053628</td>\n",
       "      <td>0.087840</td>\n",
       "    </tr>\n",
       "  </tbody>\n",
       "</table>\n",
       "</div>"
      ],
      "text/plain": [
       "         video_id      comedian  year year_month  months_since_upload  \\\n",
       "611   Fu5IMZeGwJM  Broda Shaggi  2020    2020-07                   21   \n",
       "1280  tc8flAoNwy8   Mr macaroni  2020    2020-02                   26   \n",
       "1129  qF_EEMt1I_g  Broda Shaggi  2020    2020-06                   22   \n",
       "308   aEm7Q0TVXYk       Taaooma  2020    2020-12                   16   \n",
       "1076  p2w4sijMjdw  Broda Shaggi  2021    2021-02                   14   \n",
       "325   aNvZZAKZtK4     Mc_lively  2018    2018-12                   40   \n",
       "985   NdeHE1nQBf8   Mr macaroni  2021    2021-01                   15   \n",
       "1335  uk-kETgWTI8     Mc_lively  2021    2021-09                    7   \n",
       "268   8wBBo4jaW70       Taaooma  2020    2020-10                   18   \n",
       "673   H4IeC_8TbFY  Broda Shaggi  2020    2020-09                   19   \n",
       "\n",
       "      video_duration  view_count  like_count day_of_week weekend_weekday  \\\n",
       "611                2     4429850       17907     Tuesday         Weekday   \n",
       "1280               2     4871728       28300    Saturday         Weekend   \n",
       "1129              14     3685250       71996      Sunday         Weekend   \n",
       "308               19     2089544       28876      Monday         Weekday   \n",
       "1076              31     2056523       25008      Monday         Weekday   \n",
       "325                1      771594        7306    Saturday         Weekend   \n",
       "985               57     1568727       11783      Friday         Weekday   \n",
       "1335               6      738336       14176      Monday         Weekday   \n",
       "268               15     1143639       48889      Friday         Weekday   \n",
       "673                1     2705540       25578     Tuesday         Weekday   \n",
       "\n",
       "      monthly_videos_count gender  leverage  cooks_dist  \n",
       "611                     10      M  0.143768    3.495256  \n",
       "1280                    11      M  0.250993    3.081020  \n",
       "1129                    10      M  0.099499    0.406470  \n",
       "308                     13      F  0.073761    0.359736  \n",
       "1076                     8      M  0.044925    0.174893  \n",
       "325                     13      M  0.134871    0.149513  \n",
       "985                     13      M  0.032686    0.104223  \n",
       "1335                    10      M  0.073919    0.097032  \n",
       "268                      8      F  0.022095    0.089679  \n",
       "673                      9      M  0.053628    0.087840  "
      ]
     },
     "execution_count": 16,
     "metadata": {},
     "output_type": "execute_result"
    }
   ],
   "source": [
    "summary_model = mdl_likes_vs_views.get_influence().summary_frame()\n",
    "\n",
    "df2['leverage'] = summary_model['hat_diag']\n",
    "df2['cooks_dist'] = summary_model['cooks_d']\n",
    "\n",
    "most_influential = df2.sort_values(by = 'cooks_dist', ascending = False).head(10)\n",
    "most_influential"
   ]
  },
  {
   "cell_type": "code",
   "execution_count": null,
   "id": "b8ac93d1",
   "metadata": {},
   "outputs": [],
   "source": []
  },
  {
   "cell_type": "markdown",
   "id": "d413bef0",
   "metadata": {},
   "source": [
    "#### Slope coefficient of likes vs views"
   ]
  },
  {
   "cell_type": "code",
   "execution_count": 17,
   "id": "4addd91d",
   "metadata": {},
   "outputs": [
    {
     "name": "stdout",
     "output_type": "stream",
     "text": [
      "comedian[Broda Shaggi]:view_count    0.012782\n",
      "comedian[Mc_lively]:view_count       0.025398\n",
      "comedian[Mr macaroni]:view_count     0.010112\n",
      "comedian[Taaooma]:view_count         0.022837\n",
      "year[T.2017]:view_count             -0.007436\n",
      "year[T.2018]:view_count             -0.003288\n",
      "year[T.2019]:view_count             -0.001237\n",
      "year[T.2020]:view_count              0.001465\n",
      "year[T.2021]:view_count              0.009190\n",
      "dtype: float64\n"
     ]
    }
   ],
   "source": [
    "print(mdl_likes_vs_views.params)"
   ]
  },
  {
   "cell_type": "code",
   "execution_count": null,
   "id": "bfa2b5a1",
   "metadata": {},
   "outputs": [],
   "source": []
  },
  {
   "cell_type": "markdown",
   "id": "26274e12",
   "metadata": {},
   "source": [
    "#### Regression Model Performance metrics (R-squared & RMSE)"
   ]
  },
  {
   "cell_type": "code",
   "execution_count": 18,
   "id": "df6ae851",
   "metadata": {},
   "outputs": [
    {
     "name": "stdout",
     "output_type": "stream",
     "text": [
      "0.8859361852250182\n"
     ]
    }
   ],
   "source": [
    "print(mdl_likes_vs_views.rsquared)"
   ]
  },
  {
   "cell_type": "code",
   "execution_count": 19,
   "id": "c8ba6c4a",
   "metadata": {},
   "outputs": [
    {
     "data": {
      "text/plain": [
       "3569.4020849388944"
      ]
     },
     "execution_count": 19,
     "metadata": {},
     "output_type": "execute_result"
    }
   ],
   "source": [
    "np.sqrt(mdl_likes_vs_views.mse_resid)"
   ]
  },
  {
   "cell_type": "code",
   "execution_count": null,
   "id": "dca870af",
   "metadata": {},
   "outputs": [],
   "source": []
  },
  {
   "cell_type": "code",
   "execution_count": null,
   "id": "8f33aef9",
   "metadata": {},
   "outputs": [],
   "source": []
  },
  {
   "cell_type": "code",
   "execution_count": null,
   "id": "17e93b74",
   "metadata": {},
   "outputs": [],
   "source": []
  },
  {
   "cell_type": "code",
   "execution_count": null,
   "id": "416a342d",
   "metadata": {},
   "outputs": [],
   "source": []
  },
  {
   "cell_type": "markdown",
   "id": "1d48f899",
   "metadata": {},
   "source": [
    "## PREDICTIONS"
   ]
  },
  {
   "cell_type": "code",
   "execution_count": null,
   "id": "10238c15",
   "metadata": {},
   "outputs": [],
   "source": []
  },
  {
   "cell_type": "code",
   "execution_count": 20,
   "id": "7994bf98",
   "metadata": {},
   "outputs": [
    {
     "data": {
      "text/html": [
       "<div>\n",
       "<style scoped>\n",
       "    .dataframe tbody tr th:only-of-type {\n",
       "        vertical-align: middle;\n",
       "    }\n",
       "\n",
       "    .dataframe tbody tr th {\n",
       "        vertical-align: top;\n",
       "    }\n",
       "\n",
       "    .dataframe thead th {\n",
       "        text-align: right;\n",
       "    }\n",
       "</style>\n",
       "<table border=\"1\" class=\"dataframe\">\n",
       "  <thead>\n",
       "    <tr style=\"text-align: right;\">\n",
       "      <th></th>\n",
       "      <th>video_id</th>\n",
       "      <th>comedian</th>\n",
       "      <th>year</th>\n",
       "      <th>year_month</th>\n",
       "      <th>months_since_upload</th>\n",
       "      <th>video_duration</th>\n",
       "      <th>view_count</th>\n",
       "      <th>like_count</th>\n",
       "      <th>day_of_week</th>\n",
       "      <th>weekend_weekday</th>\n",
       "      <th>monthly_videos_count</th>\n",
       "      <th>gender</th>\n",
       "    </tr>\n",
       "  </thead>\n",
       "  <tbody>\n",
       "    <tr>\n",
       "      <th>0</th>\n",
       "      <td>-_lBNFG22e8</td>\n",
       "      <td>Broda Shaggi</td>\n",
       "      <td>2021</td>\n",
       "      <td>2021-01</td>\n",
       "      <td>15</td>\n",
       "      <td>5</td>\n",
       "      <td>607779</td>\n",
       "      <td>15480</td>\n",
       "      <td>Monday</td>\n",
       "      <td>Weekday</td>\n",
       "      <td>6</td>\n",
       "      <td>M</td>\n",
       "    </tr>\n",
       "    <tr>\n",
       "      <th>1</th>\n",
       "      <td>-25l5LMLddY</td>\n",
       "      <td>Broda Shaggi</td>\n",
       "      <td>2018</td>\n",
       "      <td>2018-05</td>\n",
       "      <td>47</td>\n",
       "      <td>1</td>\n",
       "      <td>278594</td>\n",
       "      <td>3574</td>\n",
       "      <td>Saturday</td>\n",
       "      <td>Weekend</td>\n",
       "      <td>17</td>\n",
       "      <td>M</td>\n",
       "    </tr>\n",
       "    <tr>\n",
       "      <th>2</th>\n",
       "      <td>-4RSFPC-fJo</td>\n",
       "      <td>Broda Shaggi</td>\n",
       "      <td>2018</td>\n",
       "      <td>2018-05</td>\n",
       "      <td>47</td>\n",
       "      <td>1</td>\n",
       "      <td>84598</td>\n",
       "      <td>1163</td>\n",
       "      <td>Thursday</td>\n",
       "      <td>Weekday</td>\n",
       "      <td>17</td>\n",
       "      <td>M</td>\n",
       "    </tr>\n",
       "  </tbody>\n",
       "</table>\n",
       "</div>"
      ],
      "text/plain": [
       "      video_id      comedian  year year_month  months_since_upload  \\\n",
       "0  -_lBNFG22e8  Broda Shaggi  2021    2021-01                   15   \n",
       "1  -25l5LMLddY  Broda Shaggi  2018    2018-05                   47   \n",
       "2  -4RSFPC-fJo  Broda Shaggi  2018    2018-05                   47   \n",
       "\n",
       "   video_duration  view_count  like_count day_of_week weekend_weekday  \\\n",
       "0               5      607779       15480      Monday         Weekday   \n",
       "1               1      278594        3574    Saturday         Weekend   \n",
       "2               1       84598        1163    Thursday         Weekday   \n",
       "\n",
       "   monthly_videos_count gender  \n",
       "0                     6      M  \n",
       "1                    17      M  \n",
       "2                    17      M  "
      ]
     },
     "execution_count": 20,
     "metadata": {},
     "output_type": "execute_result"
    }
   ],
   "source": [
    "df.head(3)"
   ]
  },
  {
   "cell_type": "markdown",
   "id": "09572206",
   "metadata": {},
   "source": [
    "#### Add gender column to dataframe"
   ]
  },
  {
   "cell_type": "code",
   "execution_count": 21,
   "id": "d4efa73f",
   "metadata": {},
   "outputs": [],
   "source": [
    "comedian = df['comedian'].unique()\n",
    "\n",
    "gender = ['M', 'F', 'M', 'M']\n",
    "\n",
    "df['gender'] = df['comedian'].map(dict(zip(comedian, gender)))\n"
   ]
  },
  {
   "cell_type": "code",
   "execution_count": null,
   "id": "87cd0f23",
   "metadata": {},
   "outputs": [],
   "source": []
  },
  {
   "cell_type": "markdown",
   "id": "a434a3b1",
   "metadata": {},
   "source": [
    "### Data Preprocessing for modeling"
   ]
  },
  {
   "cell_type": "code",
   "execution_count": 22,
   "id": "660c3500",
   "metadata": {},
   "outputs": [],
   "source": [
    "new_df = df[['comedian', 'gender', 'year', 'months_since_upload', 'video_duration',\n",
    "       'view_count', 'weekend_weekday', 'monthly_videos_count','like_count']]"
   ]
  },
  {
   "cell_type": "code",
   "execution_count": 23,
   "id": "7cb104da",
   "metadata": {},
   "outputs": [
    {
     "data": {
      "text/html": [
       "<div>\n",
       "<style scoped>\n",
       "    .dataframe tbody tr th:only-of-type {\n",
       "        vertical-align: middle;\n",
       "    }\n",
       "\n",
       "    .dataframe tbody tr th {\n",
       "        vertical-align: top;\n",
       "    }\n",
       "\n",
       "    .dataframe thead th {\n",
       "        text-align: right;\n",
       "    }\n",
       "</style>\n",
       "<table border=\"1\" class=\"dataframe\">\n",
       "  <thead>\n",
       "    <tr style=\"text-align: right;\">\n",
       "      <th></th>\n",
       "      <th>comedian</th>\n",
       "      <th>gender</th>\n",
       "      <th>year</th>\n",
       "      <th>months_since_upload</th>\n",
       "      <th>video_duration</th>\n",
       "      <th>view_count</th>\n",
       "      <th>weekend_weekday</th>\n",
       "      <th>monthly_videos_count</th>\n",
       "      <th>like_count</th>\n",
       "    </tr>\n",
       "  </thead>\n",
       "  <tbody>\n",
       "    <tr>\n",
       "      <th>0</th>\n",
       "      <td>Broda Shaggi</td>\n",
       "      <td>M</td>\n",
       "      <td>2021</td>\n",
       "      <td>15</td>\n",
       "      <td>5</td>\n",
       "      <td>607779</td>\n",
       "      <td>Weekday</td>\n",
       "      <td>6</td>\n",
       "      <td>15480</td>\n",
       "    </tr>\n",
       "    <tr>\n",
       "      <th>1</th>\n",
       "      <td>Broda Shaggi</td>\n",
       "      <td>M</td>\n",
       "      <td>2018</td>\n",
       "      <td>47</td>\n",
       "      <td>1</td>\n",
       "      <td>278594</td>\n",
       "      <td>Weekend</td>\n",
       "      <td>17</td>\n",
       "      <td>3574</td>\n",
       "    </tr>\n",
       "  </tbody>\n",
       "</table>\n",
       "</div>"
      ],
      "text/plain": [
       "       comedian gender  year  months_since_upload  video_duration  view_count  \\\n",
       "0  Broda Shaggi      M  2021                   15               5      607779   \n",
       "1  Broda Shaggi      M  2018                   47               1      278594   \n",
       "\n",
       "  weekend_weekday  monthly_videos_count  like_count  \n",
       "0         Weekday                     6       15480  \n",
       "1         Weekend                    17        3574  "
      ]
     },
     "execution_count": 23,
     "metadata": {},
     "output_type": "execute_result"
    }
   ],
   "source": [
    "new_df.head(2)"
   ]
  },
  {
   "cell_type": "code",
   "execution_count": 24,
   "id": "9e0dd52d",
   "metadata": {},
   "outputs": [],
   "source": [
    "new_df = pd.get_dummies(new_df, columns = ['comedian', 'gender', 'year','weekend_weekday']) "
   ]
  },
  {
   "cell_type": "code",
   "execution_count": 25,
   "id": "6b74b12e",
   "metadata": {},
   "outputs": [],
   "source": [
    "X_new =new_df.columns.drop('like_count')\n",
    "X = new_df[list(X_new)]\n",
    "y = new_df['like_count']"
   ]
  },
  {
   "cell_type": "code",
   "execution_count": 26,
   "id": "1b1df157",
   "metadata": {},
   "outputs": [],
   "source": [
    "from sklearn.ensemble import RandomForestRegressor\n",
    "from sklearn.model_selection import train_test_split, cross_val_score\n",
    "from sklearn.metrics import mean_squared_error as MSE, mean_absolute_error as MAE\n",
    "from sklearn.model_selection import GridSearchCV, RandomizedSearchCV\n",
    "from sklearn.preprocessing import StandardScaler, MinMaxScaler\n",
    "from sklearn.pipeline import Pipeline\n",
    "from sklearn.compose import ColumnTransformer"
   ]
  },
  {
   "cell_type": "code",
   "execution_count": null,
   "id": "b691ec14",
   "metadata": {},
   "outputs": [],
   "source": []
  },
  {
   "cell_type": "code",
   "execution_count": 27,
   "id": "b73f091e",
   "metadata": {},
   "outputs": [],
   "source": [
    "SEED = 1\n",
    "X_train, X_test, y_train, y_test = train_test_split(X, y, test_size=0.2, random_state= SEED)"
   ]
  },
  {
   "cell_type": "code",
   "execution_count": null,
   "id": "b45c641d",
   "metadata": {},
   "outputs": [],
   "source": []
  },
  {
   "cell_type": "markdown",
   "id": "a20845c6",
   "metadata": {},
   "source": [
    "### Tree Model"
   ]
  },
  {
   "cell_type": "code",
   "execution_count": 28,
   "id": "b3077b02",
   "metadata": {},
   "outputs": [],
   "source": [
    "def random_forest_model():\n",
    "    rf = RandomForestRegressor(random_state= SEED)\n",
    "\n",
    "    params_grid = {'n_estimators': np.arange(200, 250, 10),\n",
    "            'min_samples_leaf': np.arange(0, 0.01, 0.001)}\n",
    "\n",
    "    search = RandomizedSearchCV(estimator = rf, param_distributions= params_grid, cv = 5, scoring = 'neg_mean_absolute_error',\n",
    "                     n_iter = 20, verbose = 0, n_jobs = -1)\n",
    "\n",
    "    result = search.fit(X_train, y_train)\n",
    "\n",
    "    best_hyperparams = result.best_params_\n",
    "    best_score = result.best_score_\n",
    "\n",
    "    best_model = result.best_estimator_\n",
    "    print(f\"Best hyperparams: {best_hyperparams} \\nBest score: {best_score}\")\n",
    "    return best_model"
   ]
  },
  {
   "cell_type": "code",
   "execution_count": 29,
   "id": "b73e68cd",
   "metadata": {},
   "outputs": [
    {
     "name": "stderr",
     "output_type": "stream",
     "text": [
      "C:\\Users\\tuneG\\anaconda3\\lib\\site-packages\\sklearn\\model_selection\\_search.py:918: UserWarning: One or more of the test scores are non-finite: [           nan -1509.93410107 -1430.71627268 -1451.55963657\n",
      " -1454.99350418 -1511.57935889 -1510.15334882 -1488.70463997\n",
      " -1451.10890037 -1471.25328105            nan -1429.12793397\n",
      " -1423.60197541 -1510.09221302 -1532.30629463 -1509.36297562\n",
      " -1416.62231015 -1424.32008549 -1421.73894173 -1430.55845023]\n",
      "  warnings.warn(\n"
     ]
    },
    {
     "name": "stdout",
     "output_type": "stream",
     "text": [
      "Best hyperparams: {'n_estimators': 230, 'min_samples_leaf': 0.001} \n",
      "Best score: -1416.6223101481075\n"
     ]
    }
   ],
   "source": [
    "model = random_forest_model()"
   ]
  },
  {
   "cell_type": "code",
   "execution_count": null,
   "id": "3c68695a",
   "metadata": {},
   "outputs": [],
   "source": []
  },
  {
   "cell_type": "markdown",
   "id": "1e851fcc",
   "metadata": {},
   "source": [
    "#### Mean Absolute Error of Random Forest model"
   ]
  },
  {
   "cell_type": "code",
   "execution_count": 30,
   "id": "2f24efa3",
   "metadata": {},
   "outputs": [
    {
     "name": "stdout",
     "output_type": "stream",
     "text": [
      "1187.273198908448\n"
     ]
    }
   ],
   "source": [
    "y_pred = model.predict(X_test)\n",
    "mae_test = MAE(y_test, y_pred)\n",
    "print(mae_test)"
   ]
  },
  {
   "cell_type": "code",
   "execution_count": null,
   "id": "97f23189",
   "metadata": {},
   "outputs": [],
   "source": []
  },
  {
   "cell_type": "markdown",
   "id": "456bcf43",
   "metadata": {},
   "source": [
    "#### Comparing Random Forest Model predictions to original values"
   ]
  },
  {
   "cell_type": "code",
   "execution_count": 31,
   "id": "0d4d9d66",
   "metadata": {},
   "outputs": [
    {
     "data": {
      "image/png": "[encoded data removed]",
      "text/plain": [
       "<Figure size 432x288 with 1 Axes>"
      ]
     },
     "metadata": {
      "needs_background": "light"
     },
     "output_type": "display_data"
    }
   ],
   "source": [
    "plt.scatter(x = y_test, y = y_pred)\n",
    "plt.xlabel('Original values (like_count)')\n",
    "plt.ylabel('Prediction (like_count)')\n",
    "plt.title('Original like_count VS Predictions')\n",
    "plt.show()"
   ]
  },
  {
   "cell_type": "code",
   "execution_count": null,
   "id": "0bde01e4",
   "metadata": {},
   "outputs": [],
   "source": []
  },
  {
   "cell_type": "markdown",
   "id": "9f153c2c",
   "metadata": {},
   "source": [
    "#### Model features importance"
   ]
  },
  {
   "cell_type": "code",
   "execution_count": 32,
   "id": "e6119a08",
   "metadata": {},
   "outputs": [
    {
     "data": {
      "text/html": [
       "<div>\n",
       "<style scoped>\n",
       "    .dataframe tbody tr th:only-of-type {\n",
       "        vertical-align: middle;\n",
       "    }\n",
       "\n",
       "    .dataframe tbody tr th {\n",
       "        vertical-align: top;\n",
       "    }\n",
       "\n",
       "    .dataframe thead th {\n",
       "        text-align: right;\n",
       "    }\n",
       "</style>\n",
       "<table border=\"1\" class=\"dataframe\">\n",
       "  <thead>\n",
       "    <tr style=\"text-align: right;\">\n",
       "      <th></th>\n",
       "      <th>Features</th>\n",
       "      <th>Importance Percentage %</th>\n",
       "    </tr>\n",
       "  </thead>\n",
       "  <tbody>\n",
       "    <tr>\n",
       "      <th>0</th>\n",
       "      <td>view_count</td>\n",
       "      <td>81.534</td>\n",
       "    </tr>\n",
       "    <tr>\n",
       "      <th>1</th>\n",
       "      <td>months_since_upload</td>\n",
       "      <td>10.500</td>\n",
       "    </tr>\n",
       "    <tr>\n",
       "      <th>2</th>\n",
       "      <td>video_duration</td>\n",
       "      <td>3.616</td>\n",
       "    </tr>\n",
       "    <tr>\n",
       "      <th>3</th>\n",
       "      <td>monthly_videos_count</td>\n",
       "      <td>1.929</td>\n",
       "    </tr>\n",
       "    <tr>\n",
       "      <th>4</th>\n",
       "      <td>comedian_Mr macaroni</td>\n",
       "      <td>0.525</td>\n",
       "    </tr>\n",
       "    <tr>\n",
       "      <th>5</th>\n",
       "      <td>gender_F</td>\n",
       "      <td>0.332</td>\n",
       "    </tr>\n",
       "    <tr>\n",
       "      <th>6</th>\n",
       "      <td>comedian_Taaooma</td>\n",
       "      <td>0.330</td>\n",
       "    </tr>\n",
       "    <tr>\n",
       "      <th>7</th>\n",
       "      <td>gender_M</td>\n",
       "      <td>0.325</td>\n",
       "    </tr>\n",
       "    <tr>\n",
       "      <th>8</th>\n",
       "      <td>comedian_Broda Shaggi</td>\n",
       "      <td>0.214</td>\n",
       "    </tr>\n",
       "    <tr>\n",
       "      <th>9</th>\n",
       "      <td>year_2020</td>\n",
       "      <td>0.169</td>\n",
       "    </tr>\n",
       "    <tr>\n",
       "      <th>10</th>\n",
       "      <td>weekend_weekday_Weekday</td>\n",
       "      <td>0.132</td>\n",
       "    </tr>\n",
       "    <tr>\n",
       "      <th>11</th>\n",
       "      <td>weekend_weekday_Weekend</td>\n",
       "      <td>0.115</td>\n",
       "    </tr>\n",
       "    <tr>\n",
       "      <th>12</th>\n",
       "      <td>year_2022</td>\n",
       "      <td>0.093</td>\n",
       "    </tr>\n",
       "    <tr>\n",
       "      <th>13</th>\n",
       "      <td>year_2021</td>\n",
       "      <td>0.085</td>\n",
       "    </tr>\n",
       "    <tr>\n",
       "      <th>14</th>\n",
       "      <td>year_2019</td>\n",
       "      <td>0.057</td>\n",
       "    </tr>\n",
       "    <tr>\n",
       "      <th>15</th>\n",
       "      <td>comedian_Mc_lively</td>\n",
       "      <td>0.033</td>\n",
       "    </tr>\n",
       "    <tr>\n",
       "      <th>16</th>\n",
       "      <td>year_2018</td>\n",
       "      <td>0.011</td>\n",
       "    </tr>\n",
       "    <tr>\n",
       "      <th>17</th>\n",
       "      <td>year_2017</td>\n",
       "      <td>0.000</td>\n",
       "    </tr>\n",
       "    <tr>\n",
       "      <th>18</th>\n",
       "      <td>year_2016</td>\n",
       "      <td>0.000</td>\n",
       "    </tr>\n",
       "  </tbody>\n",
       "</table>\n",
       "</div>"
      ],
      "text/plain": [
       "                   Features  Importance Percentage %\n",
       "0                view_count                   81.534\n",
       "1       months_since_upload                   10.500\n",
       "2            video_duration                    3.616\n",
       "3      monthly_videos_count                    1.929\n",
       "4      comedian_Mr macaroni                    0.525\n",
       "5                  gender_F                    0.332\n",
       "6          comedian_Taaooma                    0.330\n",
       "7                  gender_M                    0.325\n",
       "8     comedian_Broda Shaggi                    0.214\n",
       "9                 year_2020                    0.169\n",
       "10  weekend_weekday_Weekday                    0.132\n",
       "11  weekend_weekday_Weekend                    0.115\n",
       "12                year_2022                    0.093\n",
       "13                year_2021                    0.085\n",
       "14                year_2019                    0.057\n",
       "15       comedian_Mc_lively                    0.033\n",
       "16                year_2018                    0.011\n",
       "17                year_2017                    0.000\n",
       "18                year_2016                    0.000"
      ]
     },
     "execution_count": 32,
     "metadata": {},
     "output_type": "execute_result"
    }
   ],
   "source": [
    "feature_scores = dict(zip(X_train.columns, model.feature_importances_))\n",
    "list_of_tups = sorted(feature_scores.items(), key = lambda tup: tup[1], reverse = True)\n",
    "\n",
    "def mult_tup(tu):\n",
    "        return tu[0], round(tu[1]*100, 3)\n",
    "\n",
    "yy = [mult_tup(tuppp) for tuppp in list_of_tups]\n",
    "\n",
    "per_df =  pd.DataFrame.from_records(yy, columns =['Features', 'Importance Percentage %'])\n",
    "\n",
    "per_df"
   ]
  },
  {
   "cell_type": "code",
   "execution_count": null,
   "id": "21303aeb",
   "metadata": {},
   "outputs": [],
   "source": []
  },
  {
   "cell_type": "code",
   "execution_count": null,
   "id": "c25770a0",
   "metadata": {},
   "outputs": [],
   "source": []
  },
  {
   "cell_type": "code",
   "execution_count": null,
   "id": "83c4461c",
   "metadata": {},
   "outputs": [],
   "source": []
  },
  {
   "cell_type": "code",
   "execution_count": null,
   "id": "95f768a0",
   "metadata": {},
   "outputs": [],
   "source": []
  },
  {
   "cell_type": "code",
   "execution_count": null,
   "id": "4a6a2d8a",
   "metadata": {},
   "outputs": [],
   "source": []
  },
  {
   "cell_type": "code",
   "execution_count": null,
   "id": "690fdb47",
   "metadata": {},
   "outputs": [],
   "source": []
  },
  {
   "cell_type": "code",
   "execution_count": null,
   "id": "beefff01",
   "metadata": {},
   "outputs": [],
   "source": []
  }
 ],
 "metadata": {
  "kernelspec": {
   "display_name": "Python 3",
   "language": "python",
   "name": "python3"
  },
  "language_info": {
   "codemirror_mode": {
    "name": "ipython",
    "version": 3
   },
   "file_extension": ".py",
   "mimetype": "text/x-python",
   "name": "python",
   "nbconvert_exporter": "python",
   "pygments_lexer": "ipython3",
   "version": "3.8.8"
  }
 },
 "nbformat": 4,
 "nbformat_minor": 5
}
