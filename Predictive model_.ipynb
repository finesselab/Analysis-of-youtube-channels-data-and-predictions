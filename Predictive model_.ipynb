{
 "cells": [
  {
   "cell_type": "code",
   "execution_count": 1,
   "id": "ac6c2857",
   "metadata": {},
   "outputs": [],
   "source": [
    "import pyodbc\n",
    "import pandas as pd\n",
    "import seaborn as sns\n",
    "import matplotlib.pyplot as plt\n",
    "import numpy as np\n",
    "%matplotlib inline"
   ]
  },
  {
   "cell_type": "code",
   "execution_count": null,
   "id": "1923de48",
   "metadata": {},
   "outputs": [],
   "source": []
  },
  {
   "cell_type": "code",
   "execution_count": 2,
   "id": "abef5276",
   "metadata": {},
   "outputs": [],
   "source": [
    "conn2 = pyodbc.connect('DRIVER={SQL Server};'\n",
    "                                'Server=finesxxx.xxxx.xxxxxxx.amazonaws.com,xxxx;'\n",
    "                                'Database=xxxxxxxx;'\n",
    "                                'uid=xxxxx;pwd=xxxxxx;'\n",
    "                                'TrustServerCertificate=yes;')\n",
    "print (\"Connected\")\n",
    "cursor = conn2.cursor()"
   ]
  },
  {
   "cell_type": "code",
   "execution_count": 3,
   "id": "9f89b443",
   "metadata": {},
   "outputs": [],
   "source": [
    "query = '''\n",
    "SELECT *\n",
    "FROM modeling_data2\n",
    "'''"
   ]
  },
  {
   "cell_type": "code",
   "execution_count": 4,
   "id": "d7e58327",
   "metadata": {},
   "outputs": [],
   "source": [
    "df = pd.read_sql_query(query, con= conn2)"
   ]
  },
  {
   "cell_type": "code",
   "execution_count": 5,
   "id": "e8ad9b2b",
   "metadata": {},
   "outputs": [],
   "source": [
    "# df.to_csv('new modeling data.csv', index  =False)"
   ]
  },
  {
   "cell_type": "code",
   "execution_count": 6,
   "id": "d2de6093",
   "metadata": {},
   "outputs": [],
   "source": [
    "#df = pd.read_csv('new modeling data.csv')"
   ]
  },
  {
   "cell_type": "code",
   "execution_count": 7,
   "id": "b67d9020",
   "metadata": {},
   "outputs": [
    {
     "data": {
      "text/plain": [
       "(1310, 11)"
      ]
     },
     "execution_count": 7,
     "metadata": {},
     "output_type": "execute_result"
    }
   ],
   "source": [
    "df.shape"
   ]
  },
  {
   "cell_type": "code",
   "execution_count": 8,
   "id": "7994bf98",
   "metadata": {},
   "outputs": [
    {
     "data": {
      "text/html": [
       "<div>\n",
       "<style scoped>\n",
       "    .dataframe tbody tr th:only-of-type {\n",
       "        vertical-align: middle;\n",
       "    }\n",
       "\n",
       "    .dataframe tbody tr th {\n",
       "        vertical-align: top;\n",
       "    }\n",
       "\n",
       "    .dataframe thead th {\n",
       "        text-align: right;\n",
       "    }\n",
       "</style>\n",
       "<table border=\"1\" class=\"dataframe\">\n",
       "  <thead>\n",
       "    <tr style=\"text-align: right;\">\n",
       "      <th></th>\n",
       "      <th>video_id</th>\n",
       "      <th>comedian</th>\n",
       "      <th>year</th>\n",
       "      <th>year_month</th>\n",
       "      <th>months_since_upload</th>\n",
       "      <th>video_duration</th>\n",
       "      <th>view_count</th>\n",
       "      <th>like_count</th>\n",
       "      <th>day_of_week</th>\n",
       "      <th>weekend_weekday</th>\n",
       "      <th>monthly_videos_count</th>\n",
       "    </tr>\n",
       "  </thead>\n",
       "  <tbody>\n",
       "    <tr>\n",
       "      <th>0</th>\n",
       "      <td>-_lBNFG22e8</td>\n",
       "      <td>Broda Shaggi</td>\n",
       "      <td>2021</td>\n",
       "      <td>2021-01</td>\n",
       "      <td>15</td>\n",
       "      <td>5</td>\n",
       "      <td>607779</td>\n",
       "      <td>15480</td>\n",
       "      <td>Monday</td>\n",
       "      <td>Weekday</td>\n",
       "      <td>6</td>\n",
       "    </tr>\n",
       "    <tr>\n",
       "      <th>1</th>\n",
       "      <td>-6RDdP0_khU</td>\n",
       "      <td>Taaooma</td>\n",
       "      <td>2020</td>\n",
       "      <td>2020-10</td>\n",
       "      <td>18</td>\n",
       "      <td>2</td>\n",
       "      <td>677916</td>\n",
       "      <td>17698</td>\n",
       "      <td>Thursday</td>\n",
       "      <td>Weekday</td>\n",
       "      <td>8</td>\n",
       "    </tr>\n",
       "    <tr>\n",
       "      <th>2</th>\n",
       "      <td>-7V5dA3Lxb0</td>\n",
       "      <td>Mr macaroni</td>\n",
       "      <td>2020</td>\n",
       "      <td>2020-02</td>\n",
       "      <td>26</td>\n",
       "      <td>2</td>\n",
       "      <td>389383</td>\n",
       "      <td>5238</td>\n",
       "      <td>Wednesday</td>\n",
       "      <td>Weekday</td>\n",
       "      <td>11</td>\n",
       "    </tr>\n",
       "  </tbody>\n",
       "</table>\n",
       "</div>"
      ],
      "text/plain": [
       "      video_id      comedian  year year_month  months_since_upload  \\\n",
       "0  -_lBNFG22e8  Broda Shaggi  2021    2021-01                   15   \n",
       "1  -6RDdP0_khU       Taaooma  2020    2020-10                   18   \n",
       "2  -7V5dA3Lxb0   Mr macaroni  2020    2020-02                   26   \n",
       "\n",
       "   video_duration  view_count  like_count day_of_week weekend_weekday  \\\n",
       "0               5      607779       15480      Monday         Weekday   \n",
       "1               2      677916       17698    Thursday         Weekday   \n",
       "2               2      389383        5238   Wednesday         Weekday   \n",
       "\n",
       "   monthly_videos_count  \n",
       "0                     6  \n",
       "1                     8  \n",
       "2                    11  "
      ]
     },
     "execution_count": 8,
     "metadata": {},
     "output_type": "execute_result"
    }
   ],
   "source": [
    "df.head(3)"
   ]
  },
  {
   "cell_type": "code",
   "execution_count": 9,
   "id": "660c3500",
   "metadata": {},
   "outputs": [],
   "source": [
    "new_df = df[['comedian', 'year', 'months_since_upload', 'video_duration',\n",
    "       'view_count', 'day_of_week', 'weekend_weekday', 'monthly_videos_count','like_count']] "
   ]
  },
  {
   "cell_type": "code",
   "execution_count": 10,
   "id": "9e0dd52d",
   "metadata": {},
   "outputs": [],
   "source": [
    "new_df = pd.get_dummies(new_df, columns = ['comedian', 'year', 'day_of_week', 'weekend_weekday']) "
   ]
  },
  {
   "cell_type": "code",
   "execution_count": 11,
   "id": "6b74b12e",
   "metadata": {},
   "outputs": [],
   "source": [
    "X_new =new_df.columns.drop('like_count')\n",
    "X = new_df[list(X_new)]\n",
    "y = new_df['like_count']"
   ]
  },
  {
   "cell_type": "code",
   "execution_count": 12,
   "id": "1b1df157",
   "metadata": {},
   "outputs": [],
   "source": [
    "from sklearn.ensemble import RandomForestRegressor\n",
    "from sklearn.model_selection import train_test_split, cross_val_score\n",
    "from sklearn.metrics import mean_squared_error as MSE, mean_absolute_error as MAE\n",
    "from sklearn.model_selection import GridSearchCV, RandomizedSearchCV"
   ]
  },
  {
   "cell_type": "code",
   "execution_count": null,
   "id": "605ea520",
   "metadata": {},
   "outputs": [],
   "source": []
  },
  {
   "cell_type": "code",
   "execution_count": 13,
   "id": "b73f091e",
   "metadata": {},
   "outputs": [],
   "source": [
    "SEED = 1\n",
    "X_train, X_test, y_train, y_test = train_test_split(X, y, test_size=0.2, random_state= SEED)"
   ]
  },
  {
   "cell_type": "code",
   "execution_count": null,
   "id": "b45c641d",
   "metadata": {},
   "outputs": [],
   "source": []
  },
  {
   "cell_type": "code",
   "execution_count": 14,
   "id": "b3077b02",
   "metadata": {},
   "outputs": [],
   "source": [
    "def random_forest_model():\n",
    "    rf = RandomForestRegressor(random_state= SEED)\n",
    "\n",
    "    params_grid = {'n_estimators': np.arange(200, 250, 10),\n",
    "            'min_samples_leaf': np.arange(0, 0.01, 0.001)}\n",
    "\n",
    "    search = RandomizedSearchCV(estimator = rf, param_distributions= params_grid, cv = 3, scoring = 'neg_mean_absolute_error',\n",
    "                     n_iter = 20, verbose = 0, n_jobs = -1)\n",
    "\n",
    "    result = search.fit(X_train, y_train)\n",
    "\n",
    "    best_hyperparams = result.best_params_\n",
    "    best_score = result.best_score_\n",
    "\n",
    "    best_model = result.best_estimator_\n",
    "    print(f\"Best hyperparams: {best_hyperparams} \\nBest score: {best_score}\")\n",
    "    return best_model"
   ]
  },
  {
   "cell_type": "code",
   "execution_count": 15,
   "id": "b73e68cd",
   "metadata": {},
   "outputs": [
    {
     "name": "stderr",
     "output_type": "stream",
     "text": [
      "C:\\Users\\tuneG\\anaconda3\\lib\\site-packages\\sklearn\\model_selection\\_search.py:918: UserWarning: One or more of the test scores are non-finite: [-1768.05492082 -1594.20818428 -1642.19502451            nan\n",
      " -1603.06622902 -1640.13084087 -1765.97056833 -1688.18250139\n",
      " -1737.2219843  -1738.88672284            nan -1641.6052878\n",
      " -1600.139994              nan -1687.61904222 -1769.03642145\n",
      " -1602.34593543 -1737.21110557 -1687.61904222 -1601.30284396]\n",
      "  warnings.warn(\n"
     ]
    },
    {
     "name": "stdout",
     "output_type": "stream",
     "text": [
      "Best hyperparams: {'n_estimators': 230, 'min_samples_leaf': 0.002} \n",
      "Best score: -1594.208184282744\n"
     ]
    }
   ],
   "source": [
    "model = random_forest_model()"
   ]
  },
  {
   "cell_type": "code",
   "execution_count": 16,
   "id": "2f24efa3",
   "metadata": {},
   "outputs": [
    {
     "name": "stdout",
     "output_type": "stream",
     "text": [
      "1596.8981257836185\n"
     ]
    }
   ],
   "source": [
    "y_pred = model.predict(X_test)\n",
    "mae_test = MAE(y_test, y_pred)\n",
    "print(mae_test)"
   ]
  },
  {
   "cell_type": "code",
   "execution_count": 17,
   "id": "0d4d9d66",
   "metadata": {},
   "outputs": [
    {
     "data": {
      "image/png": "[encoded data removed]",
      "text/plain": [
       "<Figure size 432x288 with 1 Axes>"
      ]
     },
     "metadata": {
      "needs_background": "light"
     },
     "output_type": "display_data"
    }
   ],
   "source": [
    "plt.scatter(x = y_test, y = y_pred)\n",
    "plt.xlabel('Original values (like_count)')\n",
    "plt.ylabel('Prediction (like_count)')\n",
    "plt.title('Original like_count VS Predictions')\n",
    "plt.show()"
   ]
  },
  {
   "cell_type": "markdown",
   "id": "5015c688",
   "metadata": {},
   "source": [
    "### Feature Importance"
   ]
  },
  {
   "cell_type": "code",
   "execution_count": 18,
   "id": "c3382c21",
   "metadata": {},
   "outputs": [],
   "source": [
    "importance_rf =  pd.Series(model.feature_importances_, index = X_train.columns)"
   ]
  },
  {
   "cell_type": "code",
   "execution_count": 19,
   "id": "62e8cd8c",
   "metadata": {},
   "outputs": [],
   "source": [
    "sorted_importances_rf = importance_rf.sort_values()"
   ]
  },
  {
   "cell_type": "code",
   "execution_count": 20,
   "id": "3829497d",
   "metadata": {},
   "outputs": [
    {
     "data": {
      "image/png": "[encoded data removed]",
      "text/plain": [
       "<Figure size 432x288 with 1 Axes>"
      ]
     },
     "metadata": {
      "needs_background": "light"
     },
     "output_type": "display_data"
    }
   ],
   "source": [
    "sorted_importances_rf.plot(kind = 'barh', color = 'lightgreen')\n",
    "plt.show()"
   ]
  },
  {
   "cell_type": "code",
   "execution_count": null,
   "id": "f316e6f4",
   "metadata": {},
   "outputs": [],
   "source": []
  },
  {
   "cell_type": "code",
   "execution_count": null,
   "id": "493de3bb",
   "metadata": {},
   "outputs": [],
   "source": []
  },
  {
   "cell_type": "code",
   "execution_count": null,
   "id": "690fdb47",
   "metadata": {},
   "outputs": [],
   "source": []
  },
  {
   "cell_type": "code",
   "execution_count": null,
   "id": "beefff01",
   "metadata": {},
   "outputs": [],
   "source": []
  }
 ],
 "metadata": {
  "kernelspec": {
   "display_name": "Python 3",
   "language": "python",
   "name": "python3"
  },
  "language_info": {
   "codemirror_mode": {
    "name": "ipython",
    "version": 3
   },
   "file_extension": ".py",
   "mimetype": "text/x-python",
   "name": "python",
   "nbconvert_exporter": "python",
   "pygments_lexer": "ipython3",
   "version": "3.8.8"
  }
 },
 "nbformat": 4,
 "nbformat_minor": 5
}
