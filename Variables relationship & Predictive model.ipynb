{
 "cells": [
  {
   "cell_type": "code",
   "execution_count": 1,
   "id": "596cb7b1",
   "metadata": {},
   "outputs": [],
   "source": [
    "import pyodbc\n",
    "import pandas as pd\n",
    "import seaborn as sns\n",
    "import numpy as np\n",
    "import matplotlib.pyplot as plt\n",
    "import pickle\n",
    "pd.options.mode.chained_assignment = None"
   ]
  },
  {
   "cell_type": "markdown",
   "id": "5a80c4dd",
   "metadata": {},
   "source": [
    "### Query modeling data from database"
   ]
  },
  {
   "cell_type": "code",
   "execution_count": 2,
   "id": "cf522375",
   "metadata": {},
   "outputs": [
    {
     "name": "stdout",
     "output_type": "stream",
     "text": [
      "Connected\n"
     ]
    }
   ],
   "source": [
    "conn2 = pyodbc.connect('DRIVER={SQL Server};'\n",
    "                                'Server=finesxxx.xxxx.xxxxxxx.amazonaws.com,xxxx;'\n",
    "                                'Database=xxxxxxxx;'\n",
    "                                'uid=xxxxx;pwd=xxxxxx;'\n",
    "                                'TrustServerCertificate=yes;')\n",
    "print (\"Connected\")\n",
    "cursor = conn2.cursor()"
   ]
  },
  {
   "cell_type": "code",
   "execution_count": 3,
   "id": "d8103827",
   "metadata": {},
   "outputs": [],
   "source": [
    "query = '''\n",
    "         SELECT *\n",
    "         FROM modeling_data\n",
    "         WHERE months_since_upload > 2\n",
    "       '''"
   ]
  },
  {
   "cell_type": "code",
   "execution_count": 4,
   "id": "c02a07ff",
   "metadata": {},
   "outputs": [],
   "source": [
    "df = pd.read_sql_query(query, con= conn2)"
   ]
  },
  {
   "cell_type": "code",
   "execution_count": 5,
   "id": "d5ae6259",
   "metadata": {},
   "outputs": [],
   "source": [
    "#df.to_csv('training data.csv', index = False)"
   ]
  },
  {
   "cell_type": "code",
   "execution_count": 6,
   "id": "552d2c53",
   "metadata": {},
   "outputs": [],
   "source": [
    "#df = pd.read_csv('training data.csv')"
   ]
  },
  {
   "cell_type": "code",
   "execution_count": 7,
   "id": "8c95f771",
   "metadata": {},
   "outputs": [
    {
     "data": {
      "text/html": [
       "<div>\n",
       "<style scoped>\n",
       "    .dataframe tbody tr th:only-of-type {\n",
       "        vertical-align: middle;\n",
       "    }\n",
       "\n",
       "    .dataframe tbody tr th {\n",
       "        vertical-align: top;\n",
       "    }\n",
       "\n",
       "    .dataframe thead th {\n",
       "        text-align: right;\n",
       "    }\n",
       "</style>\n",
       "<table border=\"1\" class=\"dataframe\">\n",
       "  <thead>\n",
       "    <tr style=\"text-align: right;\">\n",
       "      <th></th>\n",
       "      <th>video_id</th>\n",
       "      <th>comedian</th>\n",
       "      <th>year</th>\n",
       "      <th>year_month</th>\n",
       "      <th>months_since_upload</th>\n",
       "      <th>video_duration</th>\n",
       "      <th>view_count</th>\n",
       "      <th>comment_count</th>\n",
       "      <th>3monthsViews_movingaverage</th>\n",
       "      <th>like_count</th>\n",
       "      <th>monthly_videos_count</th>\n",
       "    </tr>\n",
       "  </thead>\n",
       "  <tbody>\n",
       "    <tr>\n",
       "      <th>0</th>\n",
       "      <td>-_lBNFG22e8</td>\n",
       "      <td>Broda Shaggi</td>\n",
       "      <td>2021</td>\n",
       "      <td>2021-01</td>\n",
       "      <td>15</td>\n",
       "      <td>5</td>\n",
       "      <td>609299</td>\n",
       "      <td>611</td>\n",
       "      <td>420697</td>\n",
       "      <td>15502</td>\n",
       "      <td>6</td>\n",
       "    </tr>\n",
       "    <tr>\n",
       "      <th>1</th>\n",
       "      <td>-25l5LMLddY</td>\n",
       "      <td>Broda Shaggi</td>\n",
       "      <td>2018</td>\n",
       "      <td>2018-05</td>\n",
       "      <td>47</td>\n",
       "      <td>1</td>\n",
       "      <td>278594</td>\n",
       "      <td>66</td>\n",
       "      <td>158097</td>\n",
       "      <td>3574</td>\n",
       "      <td>17</td>\n",
       "    </tr>\n",
       "    <tr>\n",
       "      <th>2</th>\n",
       "      <td>-4RSFPC-fJo</td>\n",
       "      <td>Broda Shaggi</td>\n",
       "      <td>2018</td>\n",
       "      <td>2018-05</td>\n",
       "      <td>47</td>\n",
       "      <td>1</td>\n",
       "      <td>84598</td>\n",
       "      <td>24</td>\n",
       "      <td>86182</td>\n",
       "      <td>1163</td>\n",
       "      <td>17</td>\n",
       "    </tr>\n",
       "  </tbody>\n",
       "</table>\n",
       "</div>"
      ],
      "text/plain": [
       "      video_id      comedian  year year_month  months_since_upload  \\\n",
       "0  -_lBNFG22e8  Broda Shaggi  2021    2021-01                   15   \n",
       "1  -25l5LMLddY  Broda Shaggi  2018    2018-05                   47   \n",
       "2  -4RSFPC-fJo  Broda Shaggi  2018    2018-05                   47   \n",
       "\n",
       "   video_duration  view_count  comment_count  3monthsViews_movingaverage  \\\n",
       "0               5      609299            611                      420697   \n",
       "1               1      278594             66                      158097   \n",
       "2               1       84598             24                       86182   \n",
       "\n",
       "   like_count  monthly_videos_count  \n",
       "0       15502                     6  \n",
       "1        3574                    17  \n",
       "2        1163                    17  "
      ]
     },
     "execution_count": 7,
     "metadata": {},
     "output_type": "execute_result"
    }
   ],
   "source": [
    "df.head(3)"
   ]
  },
  {
   "cell_type": "code",
   "execution_count": null,
   "id": "f1d17fb3",
   "metadata": {},
   "outputs": [],
   "source": []
  },
  {
   "cell_type": "markdown",
   "id": "54eedea7",
   "metadata": {},
   "source": [
    "## RELATIONSHIP BETWEEN VIEWS and LIKES FOR VIDEOS"
   ]
  },
  {
   "cell_type": "code",
   "execution_count": 8,
   "id": "73fc2932",
   "metadata": {},
   "outputs": [
    {
     "data": {
      "image/png": "[encoded data removed]",
      "text/plain": [
       "<Figure size 720x360 with 2 Axes>"
      ]
     },
     "metadata": {
      "needs_background": "light"
     },
     "output_type": "display_data"
    }
   ],
   "source": [
    "plt.figure(figsize =(10, 5))\n",
    "sns.heatmap(df.corr(), annot = True, cmap = 'coolwarm')\n",
    "plt.show()"
   ]
  },
  {
   "cell_type": "code",
   "execution_count": 9,
   "id": "ac924e33",
   "metadata": {},
   "outputs": [],
   "source": [
    "df2 = df.copy()"
   ]
  },
  {
   "cell_type": "code",
   "execution_count": 10,
   "id": "3318c755",
   "metadata": {},
   "outputs": [
    {
     "data": {
      "text/plain": [
       "<seaborn.axisgrid.FacetGrid at 0x25807dd1430>"
      ]
     },
     "execution_count": 10,
     "metadata": {},
     "output_type": "execute_result"
    },
    {
     "data": {
      "image/png": "[encoded data removed]",
      "text/plain": [
       "<Figure size 462.75x360 with 1 Axes>"
      ]
     },
     "metadata": {
      "needs_background": "light"
     },
     "output_type": "display_data"
    }
   ],
   "source": [
    "sns.lmplot(data = df2, x = 'view_count', y = 'like_count', hue = 'comedian', ci = None)"
   ]
  },
  {
   "cell_type": "code",
   "execution_count": null,
   "id": "90b65edd",
   "metadata": {},
   "outputs": [],
   "source": []
  },
  {
   "cell_type": "markdown",
   "id": "09848895",
   "metadata": {},
   "source": [
    "### Regression model of Likes, Views and comments"
   ]
  },
  {
   "cell_type": "code",
   "execution_count": 11,
   "id": "f3709997",
   "metadata": {},
   "outputs": [],
   "source": [
    "from statsmodels.formula.api import ols"
   ]
  },
  {
   "cell_type": "code",
   "execution_count": 12,
   "id": "fb31f6d1",
   "metadata": {},
   "outputs": [],
   "source": [
    "mdl_likes_vs_views = ols('like_count ~ comment_count + comedian: view_count + 0', data = df).fit()"
   ]
  },
  {
   "cell_type": "code",
   "execution_count": null,
   "id": "c2347e53",
   "metadata": {},
   "outputs": [],
   "source": []
  },
  {
   "cell_type": "code",
   "execution_count": null,
   "id": "723e926d",
   "metadata": {},
   "outputs": [],
   "source": []
  },
  {
   "cell_type": "markdown",
   "id": "064c72c0",
   "metadata": {},
   "source": [
    "#### Ten Videos with the most influence on regression model"
   ]
  },
  {
   "cell_type": "code",
   "execution_count": 13,
   "id": "d61351f2",
   "metadata": {},
   "outputs": [],
   "source": [
    "df2 = df.copy()"
   ]
  },
  {
   "cell_type": "code",
   "execution_count": 14,
   "id": "aa42c3c6",
   "metadata": {},
   "outputs": [
    {
     "data": {
      "text/html": [
       "<div>\n",
       "<style scoped>\n",
       "    .dataframe tbody tr th:only-of-type {\n",
       "        vertical-align: middle;\n",
       "    }\n",
       "\n",
       "    .dataframe tbody tr th {\n",
       "        vertical-align: top;\n",
       "    }\n",
       "\n",
       "    .dataframe thead th {\n",
       "        text-align: right;\n",
       "    }\n",
       "</style>\n",
       "<table border=\"1\" class=\"dataframe\">\n",
       "  <thead>\n",
       "    <tr style=\"text-align: right;\">\n",
       "      <th></th>\n",
       "      <th>video_id</th>\n",
       "      <th>comedian</th>\n",
       "      <th>year</th>\n",
       "      <th>year_month</th>\n",
       "      <th>months_since_upload</th>\n",
       "      <th>video_duration</th>\n",
       "      <th>view_count</th>\n",
       "      <th>comment_count</th>\n",
       "      <th>3monthsViews_movingaverage</th>\n",
       "      <th>like_count</th>\n",
       "      <th>monthly_videos_count</th>\n",
       "      <th>leverage</th>\n",
       "      <th>cooks_dist</th>\n",
       "    </tr>\n",
       "  </thead>\n",
       "  <tbody>\n",
       "    <tr>\n",
       "      <th>405</th>\n",
       "      <td>cqg9IWVlOew</td>\n",
       "      <td>Taaooma</td>\n",
       "      <td>2020</td>\n",
       "      <td>2020-11</td>\n",
       "      <td>17</td>\n",
       "      <td>13</td>\n",
       "      <td>2828957</td>\n",
       "      <td>4757</td>\n",
       "      <td>1599638</td>\n",
       "      <td>73099</td>\n",
       "      <td>10</td>\n",
       "      <td>0.143620</td>\n",
       "      <td>3.036808</td>\n",
       "    </tr>\n",
       "    <tr>\n",
       "      <th>581</th>\n",
       "      <td>Fu5IMZeGwJM</td>\n",
       "      <td>Broda Shaggi</td>\n",
       "      <td>2020</td>\n",
       "      <td>2020-07</td>\n",
       "      <td>21</td>\n",
       "      <td>2</td>\n",
       "      <td>4433222</td>\n",
       "      <td>498</td>\n",
       "      <td>2560453</td>\n",
       "      <td>17997</td>\n",
       "      <td>10</td>\n",
       "      <td>0.142797</td>\n",
       "      <td>2.286829</td>\n",
       "    </tr>\n",
       "    <tr>\n",
       "      <th>1214</th>\n",
       "      <td>tc8flAoNwy8</td>\n",
       "      <td>Mr macaroni</td>\n",
       "      <td>2020</td>\n",
       "      <td>2020-02</td>\n",
       "      <td>26</td>\n",
       "      <td>2</td>\n",
       "      <td>4876943</td>\n",
       "      <td>935</td>\n",
       "      <td>2649189</td>\n",
       "      <td>28396</td>\n",
       "      <td>11</td>\n",
       "      <td>0.257041</td>\n",
       "      <td>1.341267</td>\n",
       "    </tr>\n",
       "    <tr>\n",
       "      <th>1069</th>\n",
       "      <td>qF_EEMt1I_g</td>\n",
       "      <td>Broda Shaggi</td>\n",
       "      <td>2020</td>\n",
       "      <td>2020-06</td>\n",
       "      <td>22</td>\n",
       "      <td>14</td>\n",
       "      <td>3711992</td>\n",
       "      <td>5760</td>\n",
       "      <td>1922237</td>\n",
       "      <td>72394</td>\n",
       "      <td>10</td>\n",
       "      <td>0.113972</td>\n",
       "      <td>1.252269</td>\n",
       "    </tr>\n",
       "    <tr>\n",
       "      <th>289</th>\n",
       "      <td>aEm7Q0TVXYk</td>\n",
       "      <td>Taaooma</td>\n",
       "      <td>2020</td>\n",
       "      <td>2020-12</td>\n",
       "      <td>16</td>\n",
       "      <td>19</td>\n",
       "      <td>2098976</td>\n",
       "      <td>798</td>\n",
       "      <td>1351299</td>\n",
       "      <td>28960</td>\n",
       "      <td>13</td>\n",
       "      <td>0.071828</td>\n",
       "      <td>0.430626</td>\n",
       "    </tr>\n",
       "    <tr>\n",
       "      <th>323</th>\n",
       "      <td>AX7qFrSSRbI</td>\n",
       "      <td>Taaooma</td>\n",
       "      <td>2021</td>\n",
       "      <td>2021-07</td>\n",
       "      <td>9</td>\n",
       "      <td>1</td>\n",
       "      <td>1072015</td>\n",
       "      <td>363</td>\n",
       "      <td>839032</td>\n",
       "      <td>51759</td>\n",
       "      <td>5</td>\n",
       "      <td>0.019123</td>\n",
       "      <td>0.414211</td>\n",
       "    </tr>\n",
       "    <tr>\n",
       "      <th>366</th>\n",
       "      <td>C-fEfJL3Wp4</td>\n",
       "      <td>Broda Shaggi</td>\n",
       "      <td>2021</td>\n",
       "      <td>2021-10</td>\n",
       "      <td>6</td>\n",
       "      <td>7</td>\n",
       "      <td>2840078</td>\n",
       "      <td>3020</td>\n",
       "      <td>1568468</td>\n",
       "      <td>70395</td>\n",
       "      <td>4</td>\n",
       "      <td>0.037880</td>\n",
       "      <td>0.223921</td>\n",
       "    </tr>\n",
       "    <tr>\n",
       "      <th>615</th>\n",
       "      <td>giNdinmdMu0</td>\n",
       "      <td>Mr macaroni</td>\n",
       "      <td>2021</td>\n",
       "      <td>2021-05</td>\n",
       "      <td>11</td>\n",
       "      <td>8</td>\n",
       "      <td>117891</td>\n",
       "      <td>2181</td>\n",
       "      <td>288398</td>\n",
       "      <td>8762</td>\n",
       "      <td>11</td>\n",
       "      <td>0.030283</td>\n",
       "      <td>0.181353</td>\n",
       "    </tr>\n",
       "    <tr>\n",
       "      <th>116</th>\n",
       "      <td>2Y3qSilUI9w</td>\n",
       "      <td>Taaooma</td>\n",
       "      <td>2020</td>\n",
       "      <td>2020-03</td>\n",
       "      <td>25</td>\n",
       "      <td>2</td>\n",
       "      <td>1371591</td>\n",
       "      <td>1233</td>\n",
       "      <td>907749</td>\n",
       "      <td>21709</td>\n",
       "      <td>10</td>\n",
       "      <td>0.026585</td>\n",
       "      <td>0.140161</td>\n",
       "    </tr>\n",
       "    <tr>\n",
       "      <th>306</th>\n",
       "      <td>aNvZZAKZtK4</td>\n",
       "      <td>Mc_lively</td>\n",
       "      <td>2018</td>\n",
       "      <td>2018-12</td>\n",
       "      <td>40</td>\n",
       "      <td>1</td>\n",
       "      <td>772145</td>\n",
       "      <td>191</td>\n",
       "      <td>420041</td>\n",
       "      <td>7319</td>\n",
       "      <td>13</td>\n",
       "      <td>0.070486</td>\n",
       "      <td>0.137122</td>\n",
       "    </tr>\n",
       "  </tbody>\n",
       "</table>\n",
       "</div>"
      ],
      "text/plain": [
       "         video_id      comedian  year year_month  months_since_upload  \\\n",
       "405   cqg9IWVlOew       Taaooma  2020    2020-11                   17   \n",
       "581   Fu5IMZeGwJM  Broda Shaggi  2020    2020-07                   21   \n",
       "1214  tc8flAoNwy8   Mr macaroni  2020    2020-02                   26   \n",
       "1069  qF_EEMt1I_g  Broda Shaggi  2020    2020-06                   22   \n",
       "289   aEm7Q0TVXYk       Taaooma  2020    2020-12                   16   \n",
       "323   AX7qFrSSRbI       Taaooma  2021    2021-07                    9   \n",
       "366   C-fEfJL3Wp4  Broda Shaggi  2021    2021-10                    6   \n",
       "615   giNdinmdMu0   Mr macaroni  2021    2021-05                   11   \n",
       "116   2Y3qSilUI9w       Taaooma  2020    2020-03                   25   \n",
       "306   aNvZZAKZtK4     Mc_lively  2018    2018-12                   40   \n",
       "\n",
       "      video_duration  view_count  comment_count  3monthsViews_movingaverage  \\\n",
       "405               13     2828957           4757                     1599638   \n",
       "581                2     4433222            498                     2560453   \n",
       "1214               2     4876943            935                     2649189   \n",
       "1069              14     3711992           5760                     1922237   \n",
       "289               19     2098976            798                     1351299   \n",
       "323                1     1072015            363                      839032   \n",
       "366                7     2840078           3020                     1568468   \n",
       "615                8      117891           2181                      288398   \n",
       "116                2     1371591           1233                      907749   \n",
       "306                1      772145            191                      420041   \n",
       "\n",
       "      like_count  monthly_videos_count  leverage  cooks_dist  \n",
       "405        73099                    10  0.143620    3.036808  \n",
       "581        17997                    10  0.142797    2.286829  \n",
       "1214       28396                    11  0.257041    1.341267  \n",
       "1069       72394                    10  0.113972    1.252269  \n",
       "289        28960                    13  0.071828    0.430626  \n",
       "323        51759                     5  0.019123    0.414211  \n",
       "366        70395                     4  0.037880    0.223921  \n",
       "615         8762                    11  0.030283    0.181353  \n",
       "116        21709                    10  0.026585    0.140161  \n",
       "306         7319                    13  0.070486    0.137122  "
      ]
     },
     "execution_count": 14,
     "metadata": {},
     "output_type": "execute_result"
    }
   ],
   "source": [
    "summary_model = mdl_likes_vs_views.get_influence().summary_frame()\n",
    "\n",
    "df2['leverage'] = summary_model['hat_diag']\n",
    "df2['cooks_dist'] = summary_model['cooks_d']\n",
    "\n",
    "most_influential = df2.sort_values(by = 'cooks_dist', ascending = False).head(10)\n",
    "most_influential"
   ]
  },
  {
   "cell_type": "code",
   "execution_count": null,
   "id": "b8ac93d1",
   "metadata": {},
   "outputs": [],
   "source": []
  },
  {
   "cell_type": "markdown",
   "id": "d413bef0",
   "metadata": {},
   "source": [
    "#### Slope coefficient of likes vs views"
   ]
  },
  {
   "cell_type": "code",
   "execution_count": 15,
   "id": "4addd91d",
   "metadata": {},
   "outputs": [
    {
     "name": "stdout",
     "output_type": "stream",
     "text": [
      "comment_count                        10.808091\n",
      "comedian[Broda Shaggi]:view_count     0.007906\n",
      "comedian[Mc_lively]:view_count        0.017787\n",
      "comedian[Mr macaroni]:view_count      0.006026\n",
      "comedian[Taaooma]:view_count          0.016770\n",
      "dtype: float64\n"
     ]
    }
   ],
   "source": [
    "print(mdl_likes_vs_views.params)"
   ]
  },
  {
   "cell_type": "code",
   "execution_count": null,
   "id": "bfa2b5a1",
   "metadata": {},
   "outputs": [],
   "source": []
  },
  {
   "cell_type": "markdown",
   "id": "26274e12",
   "metadata": {},
   "source": [
    "#### Regression Model Performance metrics (R-squared & RMSE)"
   ]
  },
  {
   "cell_type": "code",
   "execution_count": 16,
   "id": "df6ae851",
   "metadata": {},
   "outputs": [
    {
     "name": "stdout",
     "output_type": "stream",
     "text": [
      "0.9286614232087163\n"
     ]
    }
   ],
   "source": [
    "print(mdl_likes_vs_views.rsquared)"
   ]
  },
  {
   "cell_type": "code",
   "execution_count": 17,
   "id": "c8ba6c4a",
   "metadata": {},
   "outputs": [
    {
     "data": {
      "text/plain": [
       "2925.005124288155"
      ]
     },
     "execution_count": 17,
     "metadata": {},
     "output_type": "execute_result"
    }
   ],
   "source": [
    "np.sqrt(mdl_likes_vs_views.mse_resid)"
   ]
  },
  {
   "cell_type": "code",
   "execution_count": null,
   "id": "23b857a5",
   "metadata": {},
   "outputs": [],
   "source": []
  },
  {
   "cell_type": "code",
   "execution_count": null,
   "id": "363bc0e7",
   "metadata": {},
   "outputs": [],
   "source": []
  },
  {
   "cell_type": "markdown",
   "id": "ec27bcb3",
   "metadata": {},
   "source": [
    "## PREDICTIONS"
   ]
  },
  {
   "cell_type": "code",
   "execution_count": null,
   "id": "51fe55f7",
   "metadata": {},
   "outputs": [],
   "source": []
  },
  {
   "cell_type": "markdown",
   "id": "3814ecad",
   "metadata": {},
   "source": [
    "#### test data"
   ]
  },
  {
   "cell_type": "code",
   "execution_count": 18,
   "id": "57fe45ee",
   "metadata": {},
   "outputs": [],
   "source": [
    "query1 = '''\n",
    "         SELECT *\n",
    "         FROM modeling_data\n",
    "         WHERE months_since_upload <= 2\n",
    "       '''\n",
    "test_df = pd.read_sql_query(query1, con= conn2)"
   ]
  },
  {
   "cell_type": "code",
   "execution_count": 19,
   "id": "41aa2c91",
   "metadata": {},
   "outputs": [],
   "source": [
    "#test_df.to_csv('new data.csv', index = False)"
   ]
  },
  {
   "cell_type": "code",
   "execution_count": 20,
   "id": "4cef04d5",
   "metadata": {},
   "outputs": [],
   "source": [
    "#test_df = pd.read_csv('new data.csv')"
   ]
  },
  {
   "cell_type": "code",
   "execution_count": null,
   "id": "ccf658b0",
   "metadata": {},
   "outputs": [],
   "source": []
  },
  {
   "cell_type": "code",
   "execution_count": 21,
   "id": "9a1d8ed0",
   "metadata": {},
   "outputs": [],
   "source": [
    "df['year'] = df['year'].astype(str)"
   ]
  },
  {
   "cell_type": "code",
   "execution_count": 22,
   "id": "72113b42",
   "metadata": {},
   "outputs": [
    {
     "name": "stdout",
     "output_type": "stream",
     "text": [
      "['Broda Shaggi' 'Taaooma' 'Mr macaroni' 'Mc_lively']\n",
      "['M', 'F', 'M', 'M']\n"
     ]
    }
   ],
   "source": [
    "comedian = df['comedian'].unique()\n",
    "gender = ['M', 'F', 'M', 'M']\n",
    "df['gender'] = df['comedian'].map(dict(zip(comedian, gender)))\n",
    "print(comedian)\n",
    "print(gender)"
   ]
  },
  {
   "cell_type": "code",
   "execution_count": null,
   "id": "b35b884f",
   "metadata": {},
   "outputs": [],
   "source": []
  },
  {
   "cell_type": "code",
   "execution_count": 23,
   "id": "008740c5",
   "metadata": {},
   "outputs": [],
   "source": [
    "new_df = df[['comedian', 'gender', 'year', 'months_since_upload', 'video_duration',\n",
    "       'view_count', 'comment_count', 'monthly_videos_count','like_count']]"
   ]
  },
  {
   "cell_type": "code",
   "execution_count": 24,
   "id": "10c50b03",
   "metadata": {},
   "outputs": [],
   "source": [
    "X_new =new_df.columns.drop('like_count')\n",
    "X = new_df[list(X_new)]\n",
    "y = new_df['like_count']"
   ]
  },
  {
   "cell_type": "code",
   "execution_count": null,
   "id": "af6eee41",
   "metadata": {},
   "outputs": [],
   "source": []
  },
  {
   "cell_type": "code",
   "execution_count": 25,
   "id": "6521c9a6",
   "metadata": {},
   "outputs": [],
   "source": [
    "from sklearn.ensemble import RandomForestRegressor, GradientBoostingRegressor\n",
    "from sklearn.model_selection import train_test_split, cross_val_score\n",
    "from sklearn.metrics import mean_squared_error as MSE, mean_absolute_error as MAE\n",
    "from sklearn.model_selection import RandomizedSearchCV\n",
    "from sklearn.preprocessing import OneHotEncoder\n",
    "from sklearn.pipeline import Pipeline\n",
    "from sklearn.compose import ColumnTransformer"
   ]
  },
  {
   "cell_type": "code",
   "execution_count": 26,
   "id": "d976041c",
   "metadata": {},
   "outputs": [],
   "source": [
    "SEED = 1\n",
    "cat_columns = ['comedian', 'gender', 'year']"
   ]
  },
  {
   "cell_type": "code",
   "execution_count": null,
   "id": "7e5eab16",
   "metadata": {},
   "outputs": [],
   "source": []
  },
  {
   "cell_type": "code",
   "execution_count": 27,
   "id": "57de804c",
   "metadata": {},
   "outputs": [],
   "source": [
    "def one_hot_encoding(training_df):\n",
    "    \n",
    "    ohe = OneHotEncoder(handle_unknown='ignore', sparse = False)\n",
    "    ohe.fit(training_df[cat_columns])\n",
    "    \n",
    "    cat_ohe = ohe.transform(training_df[cat_columns])\n",
    "    ohe_training_df = pd.DataFrame(cat_ohe, columns = ohe.get_feature_names(input_features = cat_columns))\n",
    "\n",
    "    training_df.reset_index(inplace= True)\n",
    "    training_df.drop('index', axis= 1, inplace= True)\n",
    "\n",
    "    training_df_encoded = pd.concat([training_df, ohe_training_df], axis=1).drop(columns = cat_columns, axis=1)\n",
    "    \n",
    "    return ohe, training_df_encoded\n",
    "    "
   ]
  },
  {
   "cell_type": "code",
   "execution_count": null,
   "id": "0cf3ec11",
   "metadata": {},
   "outputs": [],
   "source": []
  },
  {
   "cell_type": "code",
   "execution_count": 28,
   "id": "d8ecdc8b",
   "metadata": {},
   "outputs": [
    {
     "name": "stderr",
     "output_type": "stream",
     "text": [
      "C:\\Users\\tuneG\\anaconda3\\lib\\site-packages\\sklearn\\utils\\deprecation.py:87: FutureWarning: Function get_feature_names is deprecated; get_feature_names is deprecated in 1.0 and will be removed in 1.2. Please use get_feature_names_out instead.\n",
      "  warnings.warn(msg, category=FutureWarning)\n"
     ]
    }
   ],
   "source": [
    "encoder, X_train_encoded =  one_hot_encoding(X)\n",
    "#pickle.dump(encoder, open('Fitted_OneHotencoder.pkl', 'wb'))\n",
    "\n",
    "def encode_new_data(new_data_df):\n",
    "    cat_ohe_new = encoder.transform(new_data_df[cat_columns])\n",
    "    ohe_new_data_df = pd.DataFrame(cat_ohe_new, columns = encoder.get_feature_names_out(input_features = cat_columns))\n",
    "    \n",
    "    new_data_df.reset_index(inplace= True)\n",
    "    new_data_df.drop('index', axis= 1, inplace= True)\n",
    "    \n",
    "    new_data_df_encoded = pd.concat([new_data_df, ohe_new_data_df], axis=1).drop(columns = cat_columns, axis=1)\n",
    "    return new_data_df_encoded\n",
    "\n"
   ]
  },
  {
   "cell_type": "code",
   "execution_count": 29,
   "id": "7c2f273d",
   "metadata": {},
   "outputs": [],
   "source": [
    "from xgboost import XGBRegressor"
   ]
  },
  {
   "cell_type": "code",
   "execution_count": 30,
   "id": "f90e2d75",
   "metadata": {},
   "outputs": [],
   "source": [
    "def xgb_model():\n",
    "    xgb = XGBRegressor()\n",
    "    params_grid={'n_estimators': [100, 200, 300],'learning_rate':[.001,0.01,.1],\n",
    "                 'max_depth':[1, 3, 5],'subsample':[.5,.75,1]}\n",
    "    \n",
    "    search = RandomizedSearchCV(estimator = xgb, param_distributions= params_grid, cv = 5, scoring = 'neg_mean_absolute_error',\n",
    "                    n_iter = 20, verbose = 0, n_jobs = -1)\n",
    "\n",
    "    result = search.fit(X_train_encoded, y)\n",
    "\n",
    "    best_hyperparams = result.best_params_\n",
    "    best_score = result.best_score_\n",
    "\n",
    "    best_model = result.best_estimator_\n",
    "    print(f\"Best hyperparams: {best_hyperparams} \\nBest score: {best_score}\")\n",
    "    return best_model"
   ]
  },
  {
   "cell_type": "code",
   "execution_count": 31,
   "id": "d34902a1",
   "metadata": {},
   "outputs": [
    {
     "name": "stdout",
     "output_type": "stream",
     "text": [
      "Best hyperparams: {'subsample': 0.75, 'n_estimators': 100, 'max_depth': 5, 'learning_rate': 0.1} \n",
      "Best score: -1012.9380471944241\n"
     ]
    }
   ],
   "source": [
    "model = xgb_model()"
   ]
  },
  {
   "cell_type": "code",
   "execution_count": null,
   "id": "59363cfc",
   "metadata": {},
   "outputs": [],
   "source": []
  },
  {
   "cell_type": "code",
   "execution_count": 32,
   "id": "f75ce95c",
   "metadata": {},
   "outputs": [],
   "source": [
    "# pickle.dump(model, open('XGB_model.pkl', 'wb'))\n",
    "\n",
    "# print('Model created and saved')"
   ]
  },
  {
   "cell_type": "markdown",
   "id": "f3fe3a5d",
   "metadata": {},
   "source": [
    "### new data"
   ]
  },
  {
   "cell_type": "code",
   "execution_count": null,
   "id": "87a92ebf",
   "metadata": {},
   "outputs": [],
   "source": []
  },
  {
   "cell_type": "code",
   "execution_count": 33,
   "id": "63cc21e3",
   "metadata": {},
   "outputs": [],
   "source": [
    "test_df['year'] = test_df['year'].astype(str)"
   ]
  },
  {
   "cell_type": "code",
   "execution_count": 34,
   "id": "a60b3e4f",
   "metadata": {},
   "outputs": [
    {
     "name": "stdout",
     "output_type": "stream",
     "text": [
      "['Broda Shaggi' 'Mr macaroni' 'Taaooma' 'Mc_lively']\n",
      "['M', 'M', 'F', 'M']\n"
     ]
    }
   ],
   "source": [
    "comedian = test_df['comedian'].unique()\n",
    "print(comedian)\n",
    "gender = ['M', 'M', 'F', 'M']\n",
    "test_df['gender'] = test_df['comedian'].map(dict(zip(comedian, gender)))\n",
    "print(gender)"
   ]
  },
  {
   "cell_type": "code",
   "execution_count": 35,
   "id": "ef2e1711",
   "metadata": {},
   "outputs": [],
   "source": [
    "new_data = test_df[['comedian', 'gender', 'year', 'months_since_upload', 'video_duration',\n",
    "       'view_count','comment_count', 'monthly_videos_count','like_count']]"
   ]
  },
  {
   "cell_type": "code",
   "execution_count": 36,
   "id": "080b47ce",
   "metadata": {},
   "outputs": [],
   "source": [
    "features =new_data.columns.drop('like_count')\n",
    "X_test = new_data[list(features)]\n",
    "y_test = new_data['like_count']"
   ]
  },
  {
   "cell_type": "code",
   "execution_count": 37,
   "id": "07abdbb6",
   "metadata": {},
   "outputs": [],
   "source": [
    "X_test_encoded = encode_new_data(X_test)"
   ]
  },
  {
   "cell_type": "code",
   "execution_count": 38,
   "id": "748f3e76",
   "metadata": {},
   "outputs": [],
   "source": [
    "#loaded_model = pickle.load(open('RF_model.pkl', 'rb'))"
   ]
  },
  {
   "cell_type": "code",
   "execution_count": 39,
   "id": "88d38df7",
   "metadata": {},
   "outputs": [],
   "source": [
    "y_pred = model.predict(X_test_encoded)"
   ]
  },
  {
   "cell_type": "code",
   "execution_count": 40,
   "id": "fda44bf5",
   "metadata": {},
   "outputs": [
    {
     "name": "stdout",
     "output_type": "stream",
     "text": [
      "1227.3847938820168\n"
     ]
    }
   ],
   "source": [
    "mae_test = MAE(y_test, y_pred)\n",
    "print(mae_test)"
   ]
  },
  {
   "cell_type": "code",
   "execution_count": null,
   "id": "3f049376",
   "metadata": {},
   "outputs": [],
   "source": []
  },
  {
   "cell_type": "code",
   "execution_count": 41,
   "id": "4e72c233",
   "metadata": {},
   "outputs": [
    {
     "data": {
      "text/html": [
       "<div>\n",
       "<style scoped>\n",
       "    .dataframe tbody tr th:only-of-type {\n",
       "        vertical-align: middle;\n",
       "    }\n",
       "\n",
       "    .dataframe tbody tr th {\n",
       "        vertical-align: top;\n",
       "    }\n",
       "\n",
       "    .dataframe thead th {\n",
       "        text-align: right;\n",
       "    }\n",
       "</style>\n",
       "<table border=\"1\" class=\"dataframe\">\n",
       "  <thead>\n",
       "    <tr style=\"text-align: right;\">\n",
       "      <th></th>\n",
       "      <th>Features</th>\n",
       "      <th>Importance Percentage %</th>\n",
       "    </tr>\n",
       "  </thead>\n",
       "  <tbody>\n",
       "    <tr>\n",
       "      <th>0</th>\n",
       "      <td>view_count</td>\n",
       "      <td>38.321</td>\n",
       "    </tr>\n",
       "    <tr>\n",
       "      <th>1</th>\n",
       "      <td>comment_count</td>\n",
       "      <td>30.177</td>\n",
       "    </tr>\n",
       "    <tr>\n",
       "      <th>2</th>\n",
       "      <td>comedian_Taaooma</td>\n",
       "      <td>7.331</td>\n",
       "    </tr>\n",
       "    <tr>\n",
       "      <th>3</th>\n",
       "      <td>comedian_Broda Shaggi</td>\n",
       "      <td>7.280</td>\n",
       "    </tr>\n",
       "    <tr>\n",
       "      <th>4</th>\n",
       "      <td>months_since_upload</td>\n",
       "      <td>5.499</td>\n",
       "    </tr>\n",
       "    <tr>\n",
       "      <th>5</th>\n",
       "      <td>comedian_Mr macaroni</td>\n",
       "      <td>4.260</td>\n",
       "    </tr>\n",
       "    <tr>\n",
       "      <th>6</th>\n",
       "      <td>video_duration</td>\n",
       "      <td>2.858</td>\n",
       "    </tr>\n",
       "    <tr>\n",
       "      <th>7</th>\n",
       "      <td>monthly_videos_count</td>\n",
       "      <td>1.398</td>\n",
       "    </tr>\n",
       "    <tr>\n",
       "      <th>8</th>\n",
       "      <td>comedian_Mc_lively</td>\n",
       "      <td>0.917</td>\n",
       "    </tr>\n",
       "    <tr>\n",
       "      <th>9</th>\n",
       "      <td>year_2021</td>\n",
       "      <td>0.880</td>\n",
       "    </tr>\n",
       "    <tr>\n",
       "      <th>10</th>\n",
       "      <td>year_2020</td>\n",
       "      <td>0.389</td>\n",
       "    </tr>\n",
       "    <tr>\n",
       "      <th>11</th>\n",
       "      <td>year_2019</td>\n",
       "      <td>0.384</td>\n",
       "    </tr>\n",
       "    <tr>\n",
       "      <th>12</th>\n",
       "      <td>year_2018</td>\n",
       "      <td>0.305</td>\n",
       "    </tr>\n",
       "    <tr>\n",
       "      <th>13</th>\n",
       "      <td>gender_F</td>\n",
       "      <td>0.000</td>\n",
       "    </tr>\n",
       "    <tr>\n",
       "      <th>14</th>\n",
       "      <td>gender_M</td>\n",
       "      <td>0.000</td>\n",
       "    </tr>\n",
       "    <tr>\n",
       "      <th>15</th>\n",
       "      <td>year_2016</td>\n",
       "      <td>0.000</td>\n",
       "    </tr>\n",
       "    <tr>\n",
       "      <th>16</th>\n",
       "      <td>year_2017</td>\n",
       "      <td>0.000</td>\n",
       "    </tr>\n",
       "    <tr>\n",
       "      <th>17</th>\n",
       "      <td>year_2022</td>\n",
       "      <td>0.000</td>\n",
       "    </tr>\n",
       "  </tbody>\n",
       "</table>\n",
       "</div>"
      ],
      "text/plain": [
       "                 Features  Importance Percentage %\n",
       "0              view_count                   38.321\n",
       "1           comment_count                   30.177\n",
       "2        comedian_Taaooma                    7.331\n",
       "3   comedian_Broda Shaggi                    7.280\n",
       "4     months_since_upload                    5.499\n",
       "5    comedian_Mr macaroni                    4.260\n",
       "6          video_duration                    2.858\n",
       "7    monthly_videos_count                    1.398\n",
       "8      comedian_Mc_lively                    0.917\n",
       "9               year_2021                    0.880\n",
       "10              year_2020                    0.389\n",
       "11              year_2019                    0.384\n",
       "12              year_2018                    0.305\n",
       "13               gender_F                    0.000\n",
       "14               gender_M                    0.000\n",
       "15              year_2016                    0.000\n",
       "16              year_2017                    0.000\n",
       "17              year_2022                    0.000"
      ]
     },
     "execution_count": 41,
     "metadata": {},
     "output_type": "execute_result"
    }
   ],
   "source": [
    "feature_scores = dict(zip(X_train_encoded.columns, model.feature_importances_))\n",
    "list_of_tups = sorted(feature_scores.items(), key = lambda tup: tup[1], reverse = True)\n",
    "\n",
    "def mult_tup(tu):\n",
    "        return tu[0], round(tu[1]*100, 3)\n",
    "\n",
    "yy = [mult_tup(tuppp) for tuppp in list_of_tups]\n",
    "\n",
    "per_df =  pd.DataFrame.from_records(yy, columns =['Features', 'Importance Percentage %'])\n",
    "\n",
    "per_df"
   ]
  },
  {
   "cell_type": "code",
   "execution_count": null,
   "id": "fb4fabde",
   "metadata": {},
   "outputs": [],
   "source": []
  },
  {
   "cell_type": "code",
   "execution_count": null,
   "id": "c52b4d77",
   "metadata": {},
   "outputs": [],
   "source": []
  },
  {
   "cell_type": "code",
   "execution_count": null,
   "id": "e1b06b2a",
   "metadata": {},
   "outputs": [],
   "source": []
  }
 ],
 "metadata": {
  "kernelspec": {
   "display_name": "Python 3",
   "language": "python",
   "name": "python3"
  },
  "language_info": {
   "codemirror_mode": {
    "name": "ipython",
    "version": 3
   },
   "file_extension": ".py",
   "mimetype": "text/x-python",
   "name": "python",
   "nbconvert_exporter": "python",
   "pygments_lexer": "ipython3",
   "version": "3.8.8"
  }
 },
 "nbformat": 4,
 "nbformat_minor": 5
}
